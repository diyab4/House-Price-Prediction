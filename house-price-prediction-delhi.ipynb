{
 "cells": [
  {
   "cell_type": "raw",
   "id": "29c2d084",
   "metadata": {
    "_cell_guid": "b1076dfc-b9ad-4769-8c92-a6c4dae69d19",
    "_uuid": "8f2839f25d086af736a60e9eeb907d3b93b6e0e5",
    "execution": {
     "iopub.execute_input": "2024-04-04T14:41:29.364877Z",
     "iopub.status.busy": "2024-04-04T14:41:29.363768Z",
     "iopub.status.idle": "2024-04-04T14:41:30.722751Z",
     "shell.execute_reply": "2024-04-04T14:41:30.721539Z",
     "shell.execute_reply.started": "2024-04-04T14:41:29.364829Z"
    },
    "papermill": {
     "duration": 0.012609,
     "end_time": "2024-04-05T12:40:50.266397",
     "exception": false,
     "start_time": "2024-04-05T12:40:50.253788",
     "status": "completed"
    },
    "tags": []
   },
   "source": [
    "# This Python 3 environment comes with many helpful analytics libraries installed\n",
    "# It is defined by the kaggle/python Docker image: https://github.com/kaggle/docker-python\n",
    "# For example, here's several helpful packages to load\n",
    "\n",
    "import numpy as np # linear algebra\n",
    "import pandas as pd # data processing, CSV file I/O (e.g. pd.read_csv)\n",
    "\n",
    "# Input data files are available in the read-only \"../input/\" directory\n",
    "# For example, running this (by clicking run or pressing Shift+Enter) will list all files under the input directory\n",
    "\n",
    "import os\n",
    "for dirname, _, filenames in os.walk('/kaggle/input'):\n",
    "    for filename in filenames:\n",
    "        print(os.path.join(dirname, filename))\n",
    "\n",
    "# You can write up to 20GB to the current directory (/kaggle/working/) that gets preserved as output when you create a version using \"Save & Run All\" \n",
    "# You can also write temporary files to /kaggle/temp/, but they won't be saved outside of the current session"
   ]
  },
  {
   "cell_type": "code",
   "execution_count": 1,
   "id": "1f895526",
   "metadata": {
    "execution": {
     "iopub.execute_input": "2024-04-05T12:40:50.297867Z",
     "iopub.status.busy": "2024-04-05T12:40:50.297398Z",
     "iopub.status.idle": "2024-04-05T12:40:51.511822Z",
     "shell.execute_reply": "2024-04-05T12:40:51.510313Z"
    },
    "papermill": {
     "duration": 1.235513,
     "end_time": "2024-04-05T12:40:51.514493",
     "exception": false,
     "start_time": "2024-04-05T12:40:50.278980",
     "status": "completed"
    },
    "tags": []
   },
   "outputs": [
    {
     "name": "stdout",
     "output_type": "stream",
     "text": [
      "/kaggle/input/June_8_data_metro_closest_stations.csv\n"
     ]
    }
   ],
   "source": [
    "import numpy as np \n",
    "import pandas as pd\n",
    "import os\n",
    "for dirname, _, filenames in os.walk('/kaggle/input'):\n",
    "    for filename in filenames:\n",
    "        print(os.path.join(dirname, filename))\n"
   ]
  },
  {
   "cell_type": "code",
   "execution_count": 2,
   "id": "e7887f66",
   "metadata": {
    "execution": {
     "iopub.execute_input": "2024-04-05T12:40:51.543341Z",
     "iopub.status.busy": "2024-04-05T12:40:51.541794Z",
     "iopub.status.idle": "2024-04-05T12:40:51.661998Z",
     "shell.execute_reply": "2024-04-05T12:40:51.660487Z"
    },
    "papermill": {
     "duration": 0.137937,
     "end_time": "2024-04-05T12:40:51.665135",
     "exception": false,
     "start_time": "2024-04-05T12:40:51.527198",
     "status": "completed"
    },
    "tags": []
   },
   "outputs": [],
   "source": [
    "data=pd.read_csv(\"/kaggle/input/June_8_data_metro_closest_stations.csv\")"
   ]
  },
  {
   "cell_type": "code",
   "execution_count": 3,
   "id": "b5534d1b",
   "metadata": {
    "execution": {
     "iopub.execute_input": "2024-04-05T12:40:51.692694Z",
     "iopub.status.busy": "2024-04-05T12:40:51.692269Z",
     "iopub.status.idle": "2024-04-05T12:40:51.702263Z",
     "shell.execute_reply": "2024-04-05T12:40:51.701067Z"
    },
    "papermill": {
     "duration": 0.0264,
     "end_time": "2024-04-05T12:40:51.704754",
     "exception": false,
     "start_time": "2024-04-05T12:40:51.678354",
     "status": "completed"
    },
    "tags": []
   },
   "outputs": [
    {
     "data": {
      "text/plain": [
       "(17890, 15)"
      ]
     },
     "execution_count": 3,
     "metadata": {},
     "output_type": "execute_result"
    }
   ],
   "source": [
    "data.shape"
   ]
  },
  {
   "cell_type": "code",
   "execution_count": 4,
   "id": "1dec7451",
   "metadata": {
    "execution": {
     "iopub.execute_input": "2024-04-05T12:40:51.734309Z",
     "iopub.status.busy": "2024-04-05T12:40:51.733668Z",
     "iopub.status.idle": "2024-04-05T12:40:51.762276Z",
     "shell.execute_reply": "2024-04-05T12:40:51.761093Z"
    },
    "papermill": {
     "duration": 0.045951,
     "end_time": "2024-04-05T12:40:51.764836",
     "exception": false,
     "start_time": "2024-04-05T12:40:51.718885",
     "status": "completed"
    },
    "tags": []
   },
   "outputs": [
    {
     "data": {
      "text/html": [
       "<div>\n",
       "<style scoped>\n",
       "    .dataframe tbody tr th:only-of-type {\n",
       "        vertical-align: middle;\n",
       "    }\n",
       "\n",
       "    .dataframe tbody tr th {\n",
       "        vertical-align: top;\n",
       "    }\n",
       "\n",
       "    .dataframe thead th {\n",
       "        text-align: right;\n",
       "    }\n",
       "</style>\n",
       "<table border=\"1\" class=\"dataframe\">\n",
       "  <thead>\n",
       "    <tr style=\"text-align: right;\">\n",
       "      <th></th>\n",
       "      <th>Unnamed: 0</th>\n",
       "      <th>size_sq_ft</th>\n",
       "      <th>propertyType</th>\n",
       "      <th>bedrooms</th>\n",
       "      <th>latitude</th>\n",
       "      <th>longitude</th>\n",
       "      <th>localityName</th>\n",
       "      <th>suburbName</th>\n",
       "      <th>cityName</th>\n",
       "      <th>price</th>\n",
       "      <th>companyName</th>\n",
       "      <th>closest_mtero_station_km</th>\n",
       "      <th>AP_dist_km</th>\n",
       "      <th>Aiims_dist_km</th>\n",
       "      <th>NDRLW_dist_km</th>\n",
       "    </tr>\n",
       "  </thead>\n",
       "  <tbody>\n",
       "    <tr>\n",
       "      <th>0</th>\n",
       "      <td>0</td>\n",
       "      <td>400</td>\n",
       "      <td>Independent Floor</td>\n",
       "      <td>1</td>\n",
       "      <td>28.641010</td>\n",
       "      <td>77.284386</td>\n",
       "      <td>Swasthya Vihar</td>\n",
       "      <td>Delhi East</td>\n",
       "      <td>Delhi</td>\n",
       "      <td>9000</td>\n",
       "      <td>Dream Homez</td>\n",
       "      <td>0.577495</td>\n",
       "      <td>21.741188</td>\n",
       "      <td>11.119239</td>\n",
       "      <td>6.227231</td>\n",
       "    </tr>\n",
       "    <tr>\n",
       "      <th>1</th>\n",
       "      <td>1</td>\n",
       "      <td>1050</td>\n",
       "      <td>Apartment</td>\n",
       "      <td>2</td>\n",
       "      <td>28.594969</td>\n",
       "      <td>77.298668</td>\n",
       "      <td>mayur vihar phase 1</td>\n",
       "      <td>Delhi East</td>\n",
       "      <td>Delhi</td>\n",
       "      <td>20000</td>\n",
       "      <td>Rupak Properties Stock</td>\n",
       "      <td>0.417142</td>\n",
       "      <td>21.401856</td>\n",
       "      <td>9.419061</td>\n",
       "      <td>9.217502</td>\n",
       "    </tr>\n",
       "    <tr>\n",
       "      <th>2</th>\n",
       "      <td>2</td>\n",
       "      <td>2250</td>\n",
       "      <td>Independent Floor</td>\n",
       "      <td>2</td>\n",
       "      <td>28.641806</td>\n",
       "      <td>77.293922</td>\n",
       "      <td>Swasthya Vihar</td>\n",
       "      <td>Delhi East</td>\n",
       "      <td>Delhi</td>\n",
       "      <td>28000</td>\n",
       "      <td>Aashiyana Real Estate</td>\n",
       "      <td>0.125136</td>\n",
       "      <td>22.620365</td>\n",
       "      <td>11.829486</td>\n",
       "      <td>7.159184</td>\n",
       "    </tr>\n",
       "    <tr>\n",
       "      <th>3</th>\n",
       "      <td>3</td>\n",
       "      <td>1350</td>\n",
       "      <td>Independent Floor</td>\n",
       "      <td>2</td>\n",
       "      <td>28.644363</td>\n",
       "      <td>77.293228</td>\n",
       "      <td>Krishna Nagar</td>\n",
       "      <td>Delhi East</td>\n",
       "      <td>Delhi</td>\n",
       "      <td>28000</td>\n",
       "      <td>Shivam Real Estate</td>\n",
       "      <td>0.371709</td>\n",
       "      <td>22.681201</td>\n",
       "      <td>11.982708</td>\n",
       "      <td>7.097348</td>\n",
       "    </tr>\n",
       "    <tr>\n",
       "      <th>4</th>\n",
       "      <td>4</td>\n",
       "      <td>450</td>\n",
       "      <td>Apartment</td>\n",
       "      <td>2</td>\n",
       "      <td>28.594736</td>\n",
       "      <td>77.311150</td>\n",
       "      <td>New Ashok Nagar</td>\n",
       "      <td>Delhi East</td>\n",
       "      <td>Delhi</td>\n",
       "      <td>12500</td>\n",
       "      <td>Shree Properties</td>\n",
       "      <td>1.087760</td>\n",
       "      <td>22.592810</td>\n",
       "      <td>10.571573</td>\n",
       "      <td>10.263271</td>\n",
       "    </tr>\n",
       "  </tbody>\n",
       "</table>\n",
       "</div>"
      ],
      "text/plain": [
       "   Unnamed: 0  size_sq_ft       propertyType  bedrooms   latitude  longitude  \\\n",
       "0           0         400  Independent Floor         1  28.641010  77.284386   \n",
       "1           1        1050          Apartment         2  28.594969  77.298668   \n",
       "2           2        2250  Independent Floor         2  28.641806  77.293922   \n",
       "3           3        1350  Independent Floor         2  28.644363  77.293228   \n",
       "4           4         450          Apartment         2  28.594736  77.311150   \n",
       "\n",
       "          localityName  suburbName cityName  price             companyName  \\\n",
       "0       Swasthya Vihar  Delhi East    Delhi   9000             Dream Homez   \n",
       "1  mayur vihar phase 1  Delhi East    Delhi  20000  Rupak Properties Stock   \n",
       "2       Swasthya Vihar  Delhi East    Delhi  28000   Aashiyana Real Estate   \n",
       "3        Krishna Nagar  Delhi East    Delhi  28000      Shivam Real Estate   \n",
       "4      New Ashok Nagar  Delhi East    Delhi  12500        Shree Properties   \n",
       "\n",
       "   closest_mtero_station_km  AP_dist_km  Aiims_dist_km  NDRLW_dist_km  \n",
       "0                  0.577495   21.741188      11.119239       6.227231  \n",
       "1                  0.417142   21.401856       9.419061       9.217502  \n",
       "2                  0.125136   22.620365      11.829486       7.159184  \n",
       "3                  0.371709   22.681201      11.982708       7.097348  \n",
       "4                  1.087760   22.592810      10.571573      10.263271  "
      ]
     },
     "execution_count": 4,
     "metadata": {},
     "output_type": "execute_result"
    }
   ],
   "source": [
    "data.head()"
   ]
  },
  {
   "cell_type": "code",
   "execution_count": 5,
   "id": "12dc19e6",
   "metadata": {
    "execution": {
     "iopub.execute_input": "2024-04-05T12:40:51.793155Z",
     "iopub.status.busy": "2024-04-05T12:40:51.792461Z",
     "iopub.status.idle": "2024-04-05T12:40:51.835759Z",
     "shell.execute_reply": "2024-04-05T12:40:51.834557Z"
    },
    "papermill": {
     "duration": 0.060811,
     "end_time": "2024-04-05T12:40:51.838678",
     "exception": false,
     "start_time": "2024-04-05T12:40:51.777867",
     "status": "completed"
    },
    "tags": []
   },
   "outputs": [
    {
     "name": "stdout",
     "output_type": "stream",
     "text": [
      "<class 'pandas.core.frame.DataFrame'>\n",
      "RangeIndex: 17890 entries, 0 to 17889\n",
      "Data columns (total 15 columns):\n",
      " #   Column                    Non-Null Count  Dtype  \n",
      "---  ------                    --------------  -----  \n",
      " 0   Unnamed: 0                17890 non-null  int64  \n",
      " 1   size_sq_ft                17890 non-null  int64  \n",
      " 2   propertyType              17890 non-null  object \n",
      " 3   bedrooms                  17890 non-null  int64  \n",
      " 4   latitude                  17890 non-null  float64\n",
      " 5   longitude                 17890 non-null  float64\n",
      " 6   localityName              17890 non-null  object \n",
      " 7   suburbName                17890 non-null  object \n",
      " 8   cityName                  17890 non-null  object \n",
      " 9   price                     17890 non-null  int64  \n",
      " 10  companyName               17890 non-null  object \n",
      " 11  closest_mtero_station_km  17890 non-null  float64\n",
      " 12  AP_dist_km                17890 non-null  float64\n",
      " 13  Aiims_dist_km             17890 non-null  float64\n",
      " 14  NDRLW_dist_km             17890 non-null  float64\n",
      "dtypes: float64(6), int64(4), object(5)\n",
      "memory usage: 2.0+ MB\n"
     ]
    }
   ],
   "source": [
    "data.info()"
   ]
  },
  {
   "cell_type": "code",
   "execution_count": 6,
   "id": "f33113fe",
   "metadata": {
    "execution": {
     "iopub.execute_input": "2024-04-05T12:40:51.867135Z",
     "iopub.status.busy": "2024-04-05T12:40:51.866699Z",
     "iopub.status.idle": "2024-04-05T12:40:51.887234Z",
     "shell.execute_reply": "2024-04-05T12:40:51.886103Z"
    },
    "papermill": {
     "duration": 0.038082,
     "end_time": "2024-04-05T12:40:51.889964",
     "exception": false,
     "start_time": "2024-04-05T12:40:51.851882",
     "status": "completed"
    },
    "tags": []
   },
   "outputs": [
    {
     "data": {
      "text/plain": [
       "Unnamed: 0                  0\n",
       "size_sq_ft                  0\n",
       "propertyType                0\n",
       "bedrooms                    0\n",
       "latitude                    0\n",
       "longitude                   0\n",
       "localityName                0\n",
       "suburbName                  0\n",
       "cityName                    0\n",
       "price                       0\n",
       "companyName                 0\n",
       "closest_mtero_station_km    0\n",
       "AP_dist_km                  0\n",
       "Aiims_dist_km               0\n",
       "NDRLW_dist_km               0\n",
       "dtype: int64"
      ]
     },
     "execution_count": 6,
     "metadata": {},
     "output_type": "execute_result"
    }
   ],
   "source": [
    "data.isna().sum()"
   ]
  },
  {
   "cell_type": "code",
   "execution_count": 7,
   "id": "2d7879bd",
   "metadata": {
    "execution": {
     "iopub.execute_input": "2024-04-05T12:40:51.918339Z",
     "iopub.status.busy": "2024-04-05T12:40:51.917871Z",
     "iopub.status.idle": "2024-04-05T12:40:51.969292Z",
     "shell.execute_reply": "2024-04-05T12:40:51.968050Z"
    },
    "papermill": {
     "duration": 0.068901,
     "end_time": "2024-04-05T12:40:51.972131",
     "exception": false,
     "start_time": "2024-04-05T12:40:51.903230",
     "status": "completed"
    },
    "tags": []
   },
   "outputs": [
    {
     "data": {
      "text/html": [
       "<div>\n",
       "<style scoped>\n",
       "    .dataframe tbody tr th:only-of-type {\n",
       "        vertical-align: middle;\n",
       "    }\n",
       "\n",
       "    .dataframe tbody tr th {\n",
       "        vertical-align: top;\n",
       "    }\n",
       "\n",
       "    .dataframe thead th {\n",
       "        text-align: right;\n",
       "    }\n",
       "</style>\n",
       "<table border=\"1\" class=\"dataframe\">\n",
       "  <thead>\n",
       "    <tr style=\"text-align: right;\">\n",
       "      <th></th>\n",
       "      <th>Unnamed: 0</th>\n",
       "      <th>size_sq_ft</th>\n",
       "      <th>bedrooms</th>\n",
       "      <th>latitude</th>\n",
       "      <th>longitude</th>\n",
       "      <th>price</th>\n",
       "      <th>closest_mtero_station_km</th>\n",
       "      <th>AP_dist_km</th>\n",
       "      <th>Aiims_dist_km</th>\n",
       "      <th>NDRLW_dist_km</th>\n",
       "    </tr>\n",
       "  </thead>\n",
       "  <tbody>\n",
       "    <tr>\n",
       "      <th>count</th>\n",
       "      <td>17890.000000</td>\n",
       "      <td>17890.000000</td>\n",
       "      <td>17890.000000</td>\n",
       "      <td>17890.000000</td>\n",
       "      <td>17890.000000</td>\n",
       "      <td>1.789000e+04</td>\n",
       "      <td>17890.000000</td>\n",
       "      <td>17890.000000</td>\n",
       "      <td>17890.000000</td>\n",
       "      <td>17890.000000</td>\n",
       "    </tr>\n",
       "    <tr>\n",
       "      <th>mean</th>\n",
       "      <td>8944.500000</td>\n",
       "      <td>1176.342091</td>\n",
       "      <td>2.168865</td>\n",
       "      <td>28.609382</td>\n",
       "      <td>77.168368</td>\n",
       "      <td>3.345196e+04</td>\n",
       "      <td>0.931495</td>\n",
       "      <td>13.727784</td>\n",
       "      <td>11.238134</td>\n",
       "      <td>11.421994</td>\n",
       "    </tr>\n",
       "    <tr>\n",
       "      <th>std</th>\n",
       "      <td>5164.542493</td>\n",
       "      <td>873.751044</td>\n",
       "      <td>0.971414</td>\n",
       "      <td>0.099547</td>\n",
       "      <td>0.097611</td>\n",
       "      <td>8.802054e+04</td>\n",
       "      <td>8.287856</td>\n",
       "      <td>11.357063</td>\n",
       "      <td>11.167202</td>\n",
       "      <td>11.063323</td>\n",
       "    </tr>\n",
       "    <tr>\n",
       "      <th>min</th>\n",
       "      <td>0.000000</td>\n",
       "      <td>100.000000</td>\n",
       "      <td>1.000000</td>\n",
       "      <td>19.185120</td>\n",
       "      <td>73.213829</td>\n",
       "      <td>1.200000e+03</td>\n",
       "      <td>0.000692</td>\n",
       "      <td>1.784779</td>\n",
       "      <td>0.634508</td>\n",
       "      <td>0.722023</td>\n",
       "    </tr>\n",
       "    <tr>\n",
       "      <th>25%</th>\n",
       "      <td>4472.250000</td>\n",
       "      <td>620.000000</td>\n",
       "      <td>1.000000</td>\n",
       "      <td>28.562540</td>\n",
       "      <td>77.103718</td>\n",
       "      <td>1.350000e+04</td>\n",
       "      <td>0.457782</td>\n",
       "      <td>11.018715</td>\n",
       "      <td>7.769267</td>\n",
       "      <td>7.986813</td>\n",
       "    </tr>\n",
       "    <tr>\n",
       "      <th>50%</th>\n",
       "      <td>8944.500000</td>\n",
       "      <td>900.000000</td>\n",
       "      <td>2.000000</td>\n",
       "      <td>28.611803</td>\n",
       "      <td>77.168755</td>\n",
       "      <td>2.200000e+04</td>\n",
       "      <td>0.698560</td>\n",
       "      <td>13.184035</td>\n",
       "      <td>10.515524</td>\n",
       "      <td>11.015571</td>\n",
       "    </tr>\n",
       "    <tr>\n",
       "      <th>75%</th>\n",
       "      <td>13416.750000</td>\n",
       "      <td>1600.000000</td>\n",
       "      <td>3.000000</td>\n",
       "      <td>28.651593</td>\n",
       "      <td>77.224998</td>\n",
       "      <td>3.500000e+04</td>\n",
       "      <td>1.087740</td>\n",
       "      <td>17.163502</td>\n",
       "      <td>15.514042</td>\n",
       "      <td>15.192483</td>\n",
       "    </tr>\n",
       "    <tr>\n",
       "      <th>max</th>\n",
       "      <td>17889.000000</td>\n",
       "      <td>16521.000000</td>\n",
       "      <td>15.000000</td>\n",
       "      <td>28.872597</td>\n",
       "      <td>80.358467</td>\n",
       "      <td>5.885646e+06</td>\n",
       "      <td>1096.479453</td>\n",
       "      <td>1109.894053</td>\n",
       "      <td>1115.621439</td>\n",
       "      <td>1123.778457</td>\n",
       "    </tr>\n",
       "  </tbody>\n",
       "</table>\n",
       "</div>"
      ],
      "text/plain": [
       "         Unnamed: 0    size_sq_ft      bedrooms      latitude     longitude  \\\n",
       "count  17890.000000  17890.000000  17890.000000  17890.000000  17890.000000   \n",
       "mean    8944.500000   1176.342091      2.168865     28.609382     77.168368   \n",
       "std     5164.542493    873.751044      0.971414      0.099547      0.097611   \n",
       "min        0.000000    100.000000      1.000000     19.185120     73.213829   \n",
       "25%     4472.250000    620.000000      1.000000     28.562540     77.103718   \n",
       "50%     8944.500000    900.000000      2.000000     28.611803     77.168755   \n",
       "75%    13416.750000   1600.000000      3.000000     28.651593     77.224998   \n",
       "max    17889.000000  16521.000000     15.000000     28.872597     80.358467   \n",
       "\n",
       "              price  closest_mtero_station_km    AP_dist_km  Aiims_dist_km  \\\n",
       "count  1.789000e+04              17890.000000  17890.000000   17890.000000   \n",
       "mean   3.345196e+04                  0.931495     13.727784      11.238134   \n",
       "std    8.802054e+04                  8.287856     11.357063      11.167202   \n",
       "min    1.200000e+03                  0.000692      1.784779       0.634508   \n",
       "25%    1.350000e+04                  0.457782     11.018715       7.769267   \n",
       "50%    2.200000e+04                  0.698560     13.184035      10.515524   \n",
       "75%    3.500000e+04                  1.087740     17.163502      15.514042   \n",
       "max    5.885646e+06               1096.479453   1109.894053    1115.621439   \n",
       "\n",
       "       NDRLW_dist_km  \n",
       "count   17890.000000  \n",
       "mean       11.421994  \n",
       "std        11.063323  \n",
       "min         0.722023  \n",
       "25%         7.986813  \n",
       "50%        11.015571  \n",
       "75%        15.192483  \n",
       "max      1123.778457  "
      ]
     },
     "execution_count": 7,
     "metadata": {},
     "output_type": "execute_result"
    }
   ],
   "source": [
    "data.describe()"
   ]
  },
  {
   "cell_type": "code",
   "execution_count": 8,
   "id": "5a275614",
   "metadata": {
    "execution": {
     "iopub.execute_input": "2024-04-05T12:40:52.001548Z",
     "iopub.status.busy": "2024-04-05T12:40:52.001133Z",
     "iopub.status.idle": "2024-04-05T12:40:52.010607Z",
     "shell.execute_reply": "2024-04-05T12:40:52.009313Z"
    },
    "papermill": {
     "duration": 0.027026,
     "end_time": "2024-04-05T12:40:52.012959",
     "exception": false,
     "start_time": "2024-04-05T12:40:51.985933",
     "status": "completed"
    },
    "tags": []
   },
   "outputs": [
    {
     "data": {
      "text/plain": [
       "array(['Delhi East', 'Rohini', 'Delhi South', 'West Delhi', 'North Delhi',\n",
       "       'Dwarka', 'Delhi Central', 'Other', 'South West Delhi',\n",
       "       'Delhi North', 'North West Delhi', 'Delhi West'], dtype=object)"
      ]
     },
     "execution_count": 8,
     "metadata": {},
     "output_type": "execute_result"
    }
   ],
   "source": [
    "data['suburbName'].unique()"
   ]
  },
  {
   "cell_type": "code",
   "execution_count": 9,
   "id": "52406168",
   "metadata": {
    "execution": {
     "iopub.execute_input": "2024-04-05T12:40:52.043940Z",
     "iopub.status.busy": "2024-04-05T12:40:52.042805Z",
     "iopub.status.idle": "2024-04-05T12:40:52.073866Z",
     "shell.execute_reply": "2024-04-05T12:40:52.072538Z"
    },
    "papermill": {
     "duration": 0.049395,
     "end_time": "2024-04-05T12:40:52.076832",
     "exception": false,
     "start_time": "2024-04-05T12:40:52.027437",
     "status": "completed"
    },
    "tags": []
   },
   "outputs": [
    {
     "name": "stderr",
     "output_type": "stream",
     "text": [
      "/tmp/ipykernel_18/3008881977.py:1: FutureWarning: A value is trying to be set on a copy of a DataFrame or Series through chained assignment using an inplace method.\n",
      "The behavior will change in pandas 3.0. This inplace method will never work because the intermediate object on which we are setting values always behaves as a copy.\n",
      "\n",
      "For example, when doing 'df[col].method(value, inplace=True)', try using 'df.method({col: value}, inplace=True)' or df[col] = df[col].method(value) instead, to perform the operation inplace on the original object.\n",
      "\n",
      "\n",
      "  data['suburbName'].replace('Rohini','North West Delhi', inplace=True)\n",
      "/tmp/ipykernel_18/3008881977.py:2: FutureWarning: A value is trying to be set on a copy of a DataFrame or Series through chained assignment using an inplace method.\n",
      "The behavior will change in pandas 3.0. This inplace method will never work because the intermediate object on which we are setting values always behaves as a copy.\n",
      "\n",
      "For example, when doing 'df[col].method(value, inplace=True)', try using 'df.method({col: value}, inplace=True)' or df[col] = df[col].method(value) instead, to perform the operation inplace on the original object.\n",
      "\n",
      "\n",
      "  data['suburbName'].replace('Dwarka','South West Delhi', inplace=True)\n",
      "/tmp/ipykernel_18/3008881977.py:3: FutureWarning: A value is trying to be set on a copy of a DataFrame or Series through chained assignment using an inplace method.\n",
      "The behavior will change in pandas 3.0. This inplace method will never work because the intermediate object on which we are setting values always behaves as a copy.\n",
      "\n",
      "For example, when doing 'df[col].method(value, inplace=True)', try using 'df.method({col: value}, inplace=True)' or df[col] = df[col].method(value) instead, to perform the operation inplace on the original object.\n",
      "\n",
      "\n",
      "  data['suburbName'].replace('Delhi North','North Delhi',inplace=True)\n",
      "/tmp/ipykernel_18/3008881977.py:4: FutureWarning: A value is trying to be set on a copy of a DataFrame or Series through chained assignment using an inplace method.\n",
      "The behavior will change in pandas 3.0. This inplace method will never work because the intermediate object on which we are setting values always behaves as a copy.\n",
      "\n",
      "For example, when doing 'df[col].method(value, inplace=True)', try using 'df.method({col: value}, inplace=True)' or df[col] = df[col].method(value) instead, to perform the operation inplace on the original object.\n",
      "\n",
      "\n",
      "  data['suburbName'].replace('Delhi West','West Delhi',inplace=True)\n",
      "/tmp/ipykernel_18/3008881977.py:5: FutureWarning: A value is trying to be set on a copy of a DataFrame or Series through chained assignment using an inplace method.\n",
      "The behavior will change in pandas 3.0. This inplace method will never work because the intermediate object on which we are setting values always behaves as a copy.\n",
      "\n",
      "For example, when doing 'df[col].method(value, inplace=True)', try using 'df.method({col: value}, inplace=True)' or df[col] = df[col].method(value) instead, to perform the operation inplace on the original object.\n",
      "\n",
      "\n",
      "  data['suburbName'].replace('Delhi South','South Delhi',inplace=True)\n",
      "/tmp/ipykernel_18/3008881977.py:6: FutureWarning: A value is trying to be set on a copy of a DataFrame or Series through chained assignment using an inplace method.\n",
      "The behavior will change in pandas 3.0. This inplace method will never work because the intermediate object on which we are setting values always behaves as a copy.\n",
      "\n",
      "For example, when doing 'df[col].method(value, inplace=True)', try using 'df.method({col: value}, inplace=True)' or df[col] = df[col].method(value) instead, to perform the operation inplace on the original object.\n",
      "\n",
      "\n",
      "  data['suburbName'].replace('Delhi East','East Delhi',inplace=True)\n"
     ]
    }
   ],
   "source": [
    "data['suburbName'].replace('Rohini','North West Delhi', inplace=True)\n",
    "data['suburbName'].replace('Dwarka','South West Delhi', inplace=True)\n",
    "data['suburbName'].replace('Delhi North','North Delhi',inplace=True)\n",
    "data['suburbName'].replace('Delhi West','West Delhi',inplace=True)\n",
    "data['suburbName'].replace('Delhi South','South Delhi',inplace=True)\n",
    "data['suburbName'].replace('Delhi East','East Delhi',inplace=True)"
   ]
  },
  {
   "cell_type": "code",
   "execution_count": 10,
   "id": "63dbcde3",
   "metadata": {
    "execution": {
     "iopub.execute_input": "2024-04-05T12:40:52.106673Z",
     "iopub.status.busy": "2024-04-05T12:40:52.106280Z",
     "iopub.status.idle": "2024-04-05T12:40:52.114234Z",
     "shell.execute_reply": "2024-04-05T12:40:52.113439Z"
    },
    "papermill": {
     "duration": 0.025278,
     "end_time": "2024-04-05T12:40:52.116235",
     "exception": false,
     "start_time": "2024-04-05T12:40:52.090957",
     "status": "completed"
    },
    "tags": []
   },
   "outputs": [
    {
     "data": {
      "text/plain": [
       "array(['East Delhi', 'North West Delhi', 'South Delhi', 'West Delhi',\n",
       "       'North Delhi', 'South West Delhi', 'Delhi Central', 'Other'],\n",
       "      dtype=object)"
      ]
     },
     "execution_count": 10,
     "metadata": {},
     "output_type": "execute_result"
    }
   ],
   "source": [
    "data['suburbName'].unique()"
   ]
  },
  {
   "cell_type": "code",
   "execution_count": 11,
   "id": "f81b0d0e",
   "metadata": {
    "execution": {
     "iopub.execute_input": "2024-04-05T12:40:52.147645Z",
     "iopub.status.busy": "2024-04-05T12:40:52.146475Z",
     "iopub.status.idle": "2024-04-05T12:40:54.647905Z",
     "shell.execute_reply": "2024-04-05T12:40:54.646541Z"
    },
    "papermill": {
     "duration": 2.520086,
     "end_time": "2024-04-05T12:40:54.650653",
     "exception": false,
     "start_time": "2024-04-05T12:40:52.130567",
     "status": "completed"
    },
    "tags": []
   },
   "outputs": [
    {
     "data": {
      "text/plain": [
       "[Text(0, 0, '3749'),\n",
       " Text(0, 0, '2732'),\n",
       " Text(0, 0, '2706'),\n",
       " Text(0, 0, '2536'),\n",
       " Text(0, 0, '2521'),\n",
       " Text(0, 0, '1933'),\n",
       " Text(0, 0, '1428'),\n",
       " Text(0, 0, '285')]"
      ]
     },
     "execution_count": 11,
     "metadata": {},
     "output_type": "execute_result"
    },
    {
     "data": {
      "image/png": "[encoded data removed]",
      "text/plain": [
       "<Figure size 1200x1000 with 1 Axes>"
      ]
     },
     "metadata": {},
     "output_type": "display_data"
    }
   ],
   "source": [
    "import seaborn as sns\n",
    "import matplotlib.pyplot as plt\n",
    "plt.figure(figsize=(12,10))\n",
    "ax = sns.countplot(x=data['suburbName'],\n",
    "                   order=data['suburbName'].value_counts(ascending=False).index);\n",
    "\n",
    "abs_values = data['suburbName'].value_counts(ascending=False).values\n",
    "\n",
    "ax.bar_label(container=ax.containers[0], labels=abs_values)\n"
   ]
  },
  {
   "cell_type": "code",
   "execution_count": 12,
   "id": "b0070011",
   "metadata": {
    "execution": {
     "iopub.execute_input": "2024-04-05T12:40:54.683312Z",
     "iopub.status.busy": "2024-04-05T12:40:54.682831Z",
     "iopub.status.idle": "2024-04-05T12:40:54.709975Z",
     "shell.execute_reply": "2024-04-05T12:40:54.708388Z"
    },
    "papermill": {
     "duration": 0.047521,
     "end_time": "2024-04-05T12:40:54.713677",
     "exception": false,
     "start_time": "2024-04-05T12:40:54.666156",
     "status": "completed"
    },
    "tags": []
   },
   "outputs": [
    {
     "data": {
      "text/html": [
       "<div>\n",
       "<style scoped>\n",
       "    .dataframe tbody tr th:only-of-type {\n",
       "        vertical-align: middle;\n",
       "    }\n",
       "\n",
       "    .dataframe tbody tr th {\n",
       "        vertical-align: top;\n",
       "    }\n",
       "\n",
       "    .dataframe thead th {\n",
       "        text-align: right;\n",
       "    }\n",
       "</style>\n",
       "<table border=\"1\" class=\"dataframe\">\n",
       "  <thead>\n",
       "    <tr style=\"text-align: right;\">\n",
       "      <th></th>\n",
       "      <th>size_sq_ft</th>\n",
       "      <th>propertyType</th>\n",
       "      <th>bedrooms</th>\n",
       "      <th>latitude</th>\n",
       "      <th>longitude</th>\n",
       "      <th>localityName</th>\n",
       "      <th>suburbName</th>\n",
       "      <th>cityName</th>\n",
       "      <th>price</th>\n",
       "      <th>companyName</th>\n",
       "      <th>closest_mtero_station_km</th>\n",
       "      <th>AP_dist_km</th>\n",
       "      <th>Aiims_dist_km</th>\n",
       "      <th>NDRLW_dist_km</th>\n",
       "    </tr>\n",
       "  </thead>\n",
       "  <tbody>\n",
       "    <tr>\n",
       "      <th>0</th>\n",
       "      <td>400</td>\n",
       "      <td>Independent Floor</td>\n",
       "      <td>1</td>\n",
       "      <td>28.641010</td>\n",
       "      <td>77.284386</td>\n",
       "      <td>Swasthya Vihar</td>\n",
       "      <td>East Delhi</td>\n",
       "      <td>Delhi</td>\n",
       "      <td>9000</td>\n",
       "      <td>Dream Homez</td>\n",
       "      <td>0.577495</td>\n",
       "      <td>21.741188</td>\n",
       "      <td>11.119239</td>\n",
       "      <td>6.227231</td>\n",
       "    </tr>\n",
       "    <tr>\n",
       "      <th>1</th>\n",
       "      <td>1050</td>\n",
       "      <td>Apartment</td>\n",
       "      <td>2</td>\n",
       "      <td>28.594969</td>\n",
       "      <td>77.298668</td>\n",
       "      <td>mayur vihar phase 1</td>\n",
       "      <td>East Delhi</td>\n",
       "      <td>Delhi</td>\n",
       "      <td>20000</td>\n",
       "      <td>Rupak Properties Stock</td>\n",
       "      <td>0.417142</td>\n",
       "      <td>21.401856</td>\n",
       "      <td>9.419061</td>\n",
       "      <td>9.217502</td>\n",
       "    </tr>\n",
       "    <tr>\n",
       "      <th>2</th>\n",
       "      <td>2250</td>\n",
       "      <td>Independent Floor</td>\n",
       "      <td>2</td>\n",
       "      <td>28.641806</td>\n",
       "      <td>77.293922</td>\n",
       "      <td>Swasthya Vihar</td>\n",
       "      <td>East Delhi</td>\n",
       "      <td>Delhi</td>\n",
       "      <td>28000</td>\n",
       "      <td>Aashiyana Real Estate</td>\n",
       "      <td>0.125136</td>\n",
       "      <td>22.620365</td>\n",
       "      <td>11.829486</td>\n",
       "      <td>7.159184</td>\n",
       "    </tr>\n",
       "    <tr>\n",
       "      <th>3</th>\n",
       "      <td>1350</td>\n",
       "      <td>Independent Floor</td>\n",
       "      <td>2</td>\n",
       "      <td>28.644363</td>\n",
       "      <td>77.293228</td>\n",
       "      <td>Krishna Nagar</td>\n",
       "      <td>East Delhi</td>\n",
       "      <td>Delhi</td>\n",
       "      <td>28000</td>\n",
       "      <td>Shivam Real Estate</td>\n",
       "      <td>0.371709</td>\n",
       "      <td>22.681201</td>\n",
       "      <td>11.982708</td>\n",
       "      <td>7.097348</td>\n",
       "    </tr>\n",
       "    <tr>\n",
       "      <th>4</th>\n",
       "      <td>450</td>\n",
       "      <td>Apartment</td>\n",
       "      <td>2</td>\n",
       "      <td>28.594736</td>\n",
       "      <td>77.311150</td>\n",
       "      <td>New Ashok Nagar</td>\n",
       "      <td>East Delhi</td>\n",
       "      <td>Delhi</td>\n",
       "      <td>12500</td>\n",
       "      <td>Shree Properties</td>\n",
       "      <td>1.087760</td>\n",
       "      <td>22.592810</td>\n",
       "      <td>10.571573</td>\n",
       "      <td>10.263271</td>\n",
       "    </tr>\n",
       "  </tbody>\n",
       "</table>\n",
       "</div>"
      ],
      "text/plain": [
       "   size_sq_ft       propertyType  bedrooms   latitude  longitude  \\\n",
       "0         400  Independent Floor         1  28.641010  77.284386   \n",
       "1        1050          Apartment         2  28.594969  77.298668   \n",
       "2        2250  Independent Floor         2  28.641806  77.293922   \n",
       "3        1350  Independent Floor         2  28.644363  77.293228   \n",
       "4         450          Apartment         2  28.594736  77.311150   \n",
       "\n",
       "          localityName  suburbName cityName  price             companyName  \\\n",
       "0       Swasthya Vihar  East Delhi    Delhi   9000             Dream Homez   \n",
       "1  mayur vihar phase 1  East Delhi    Delhi  20000  Rupak Properties Stock   \n",
       "2       Swasthya Vihar  East Delhi    Delhi  28000   Aashiyana Real Estate   \n",
       "3        Krishna Nagar  East Delhi    Delhi  28000      Shivam Real Estate   \n",
       "4      New Ashok Nagar  East Delhi    Delhi  12500        Shree Properties   \n",
       "\n",
       "   closest_mtero_station_km  AP_dist_km  Aiims_dist_km  NDRLW_dist_km  \n",
       "0                  0.577495   21.741188      11.119239       6.227231  \n",
       "1                  0.417142   21.401856       9.419061       9.217502  \n",
       "2                  0.125136   22.620365      11.829486       7.159184  \n",
       "3                  0.371709   22.681201      11.982708       7.097348  \n",
       "4                  1.087760   22.592810      10.571573      10.263271  "
      ]
     },
     "execution_count": 12,
     "metadata": {},
     "output_type": "execute_result"
    }
   ],
   "source": [
    "data=data.drop('Unnamed: 0', axis=1)\n",
    "data.head()"
   ]
  },
  {
   "cell_type": "code",
   "execution_count": 13,
   "id": "8a1d8e3c",
   "metadata": {
    "execution": {
     "iopub.execute_input": "2024-04-05T12:40:54.746888Z",
     "iopub.status.busy": "2024-04-05T12:40:54.745756Z",
     "iopub.status.idle": "2024-04-05T12:40:54.763645Z",
     "shell.execute_reply": "2024-04-05T12:40:54.762451Z"
    },
    "papermill": {
     "duration": 0.037333,
     "end_time": "2024-04-05T12:40:54.766533",
     "exception": false,
     "start_time": "2024-04-05T12:40:54.729200",
     "status": "completed"
    },
    "tags": []
   },
   "outputs": [
    {
     "data": {
      "text/html": [
       "<div>\n",
       "<style scoped>\n",
       "    .dataframe tbody tr th:only-of-type {\n",
       "        vertical-align: middle;\n",
       "    }\n",
       "\n",
       "    .dataframe tbody tr th {\n",
       "        vertical-align: top;\n",
       "    }\n",
       "\n",
       "    .dataframe thead th {\n",
       "        text-align: right;\n",
       "    }\n",
       "</style>\n",
       "<table border=\"1\" class=\"dataframe\">\n",
       "  <thead>\n",
       "    <tr style=\"text-align: right;\">\n",
       "      <th></th>\n",
       "      <th>size_sq_ft</th>\n",
       "      <th>bedrooms</th>\n",
       "      <th>price</th>\n",
       "      <th>closest_mtero_station_km</th>\n",
       "      <th>AP_dist_km</th>\n",
       "      <th>Aiims_dist_km</th>\n",
       "      <th>NDRLW_dist_km</th>\n",
       "    </tr>\n",
       "  </thead>\n",
       "  <tbody>\n",
       "    <tr>\n",
       "      <th>0</th>\n",
       "      <td>400</td>\n",
       "      <td>1</td>\n",
       "      <td>9000</td>\n",
       "      <td>0.577495</td>\n",
       "      <td>21.741188</td>\n",
       "      <td>11.119239</td>\n",
       "      <td>6.227231</td>\n",
       "    </tr>\n",
       "    <tr>\n",
       "      <th>1</th>\n",
       "      <td>1050</td>\n",
       "      <td>2</td>\n",
       "      <td>20000</td>\n",
       "      <td>0.417142</td>\n",
       "      <td>21.401856</td>\n",
       "      <td>9.419061</td>\n",
       "      <td>9.217502</td>\n",
       "    </tr>\n",
       "    <tr>\n",
       "      <th>2</th>\n",
       "      <td>2250</td>\n",
       "      <td>2</td>\n",
       "      <td>28000</td>\n",
       "      <td>0.125136</td>\n",
       "      <td>22.620365</td>\n",
       "      <td>11.829486</td>\n",
       "      <td>7.159184</td>\n",
       "    </tr>\n",
       "    <tr>\n",
       "      <th>3</th>\n",
       "      <td>1350</td>\n",
       "      <td>2</td>\n",
       "      <td>28000</td>\n",
       "      <td>0.371709</td>\n",
       "      <td>22.681201</td>\n",
       "      <td>11.982708</td>\n",
       "      <td>7.097348</td>\n",
       "    </tr>\n",
       "    <tr>\n",
       "      <th>4</th>\n",
       "      <td>450</td>\n",
       "      <td>2</td>\n",
       "      <td>12500</td>\n",
       "      <td>1.087760</td>\n",
       "      <td>22.592810</td>\n",
       "      <td>10.571573</td>\n",
       "      <td>10.263271</td>\n",
       "    </tr>\n",
       "  </tbody>\n",
       "</table>\n",
       "</div>"
      ],
      "text/plain": [
       "   size_sq_ft  bedrooms  price  closest_mtero_station_km  AP_dist_km  \\\n",
       "0         400         1   9000                  0.577495   21.741188   \n",
       "1        1050         2  20000                  0.417142   21.401856   \n",
       "2        2250         2  28000                  0.125136   22.620365   \n",
       "3        1350         2  28000                  0.371709   22.681201   \n",
       "4         450         2  12500                  1.087760   22.592810   \n",
       "\n",
       "   Aiims_dist_km  NDRLW_dist_km  \n",
       "0      11.119239       6.227231  \n",
       "1       9.419061       9.217502  \n",
       "2      11.829486       7.159184  \n",
       "3      11.982708       7.097348  \n",
       "4      10.571573      10.263271  "
      ]
     },
     "execution_count": 13,
     "metadata": {},
     "output_type": "execute_result"
    }
   ],
   "source": [
    "df1=data[['size_sq_ft','bedrooms','price', 'closest_mtero_station_km' , 'AP_dist_km','Aiims_dist_km' , 'NDRLW_dist_km']]\n",
    "df1.head()         "
   ]
  },
  {
   "cell_type": "code",
   "execution_count": 14,
   "id": "f69c315b",
   "metadata": {
    "execution": {
     "iopub.execute_input": "2024-04-05T12:40:54.800163Z",
     "iopub.status.busy": "2024-04-05T12:40:54.799754Z",
     "iopub.status.idle": "2024-04-05T12:40:55.367020Z",
     "shell.execute_reply": "2024-04-05T12:40:55.365728Z"
    },
    "papermill": {
     "duration": 0.590125,
     "end_time": "2024-04-05T12:40:55.372936",
     "exception": false,
     "start_time": "2024-04-05T12:40:54.782811",
     "status": "completed"
    },
    "tags": []
   },
   "outputs": [
    {
     "data": {
      "text/plain": [
       "<Axes: >"
      ]
     },
     "execution_count": 14,
     "metadata": {},
     "output_type": "execute_result"
    },
    {
     "data": {
      "image/png": "[encoded data removed]",
      "text/plain": [
       "<Figure size 640x480 with 2 Axes>"
      ]
     },
     "metadata": {},
     "output_type": "display_data"
    }
   ],
   "source": [
    "sns.heatmap(df1.corr(),annot=True )"
   ]
  },
  {
   "cell_type": "code",
   "execution_count": 15,
   "id": "df3a697d",
   "metadata": {
    "execution": {
     "iopub.execute_input": "2024-04-05T12:40:55.428967Z",
     "iopub.status.busy": "2024-04-05T12:40:55.427953Z",
     "iopub.status.idle": "2024-04-05T12:40:55.446390Z",
     "shell.execute_reply": "2024-04-05T12:40:55.445026Z"
    },
    "papermill": {
     "duration": 0.048171,
     "end_time": "2024-04-05T12:40:55.449118",
     "exception": false,
     "start_time": "2024-04-05T12:40:55.400947",
     "status": "completed"
    },
    "tags": []
   },
   "outputs": [
    {
     "data": {
      "text/html": [
       "<div>\n",
       "<style scoped>\n",
       "    .dataframe tbody tr th:only-of-type {\n",
       "        vertical-align: middle;\n",
       "    }\n",
       "\n",
       "    .dataframe tbody tr th {\n",
       "        vertical-align: top;\n",
       "    }\n",
       "\n",
       "    .dataframe thead th {\n",
       "        text-align: right;\n",
       "    }\n",
       "</style>\n",
       "<table border=\"1\" class=\"dataframe\">\n",
       "  <thead>\n",
       "    <tr style=\"text-align: right;\">\n",
       "      <th></th>\n",
       "      <th>size_sq_ft</th>\n",
       "      <th>propertyType</th>\n",
       "      <th>bedrooms</th>\n",
       "      <th>localityName</th>\n",
       "      <th>price</th>\n",
       "      <th>closest_mtero_station_km</th>\n",
       "    </tr>\n",
       "  </thead>\n",
       "  <tbody>\n",
       "    <tr>\n",
       "      <th>0</th>\n",
       "      <td>400</td>\n",
       "      <td>Independent Floor</td>\n",
       "      <td>1</td>\n",
       "      <td>Swasthya Vihar</td>\n",
       "      <td>9000</td>\n",
       "      <td>0.577495</td>\n",
       "    </tr>\n",
       "    <tr>\n",
       "      <th>1</th>\n",
       "      <td>1050</td>\n",
       "      <td>Apartment</td>\n",
       "      <td>2</td>\n",
       "      <td>mayur vihar phase 1</td>\n",
       "      <td>20000</td>\n",
       "      <td>0.417142</td>\n",
       "    </tr>\n",
       "    <tr>\n",
       "      <th>2</th>\n",
       "      <td>2250</td>\n",
       "      <td>Independent Floor</td>\n",
       "      <td>2</td>\n",
       "      <td>Swasthya Vihar</td>\n",
       "      <td>28000</td>\n",
       "      <td>0.125136</td>\n",
       "    </tr>\n",
       "    <tr>\n",
       "      <th>3</th>\n",
       "      <td>1350</td>\n",
       "      <td>Independent Floor</td>\n",
       "      <td>2</td>\n",
       "      <td>Krishna Nagar</td>\n",
       "      <td>28000</td>\n",
       "      <td>0.371709</td>\n",
       "    </tr>\n",
       "    <tr>\n",
       "      <th>4</th>\n",
       "      <td>450</td>\n",
       "      <td>Apartment</td>\n",
       "      <td>2</td>\n",
       "      <td>New Ashok Nagar</td>\n",
       "      <td>12500</td>\n",
       "      <td>1.087760</td>\n",
       "    </tr>\n",
       "  </tbody>\n",
       "</table>\n",
       "</div>"
      ],
      "text/plain": [
       "   size_sq_ft       propertyType  bedrooms         localityName  price  \\\n",
       "0         400  Independent Floor         1       Swasthya Vihar   9000   \n",
       "1        1050          Apartment         2  mayur vihar phase 1  20000   \n",
       "2        2250  Independent Floor         2       Swasthya Vihar  28000   \n",
       "3        1350  Independent Floor         2        Krishna Nagar  28000   \n",
       "4         450          Apartment         2      New Ashok Nagar  12500   \n",
       "\n",
       "   closest_mtero_station_km  \n",
       "0                  0.577495  \n",
       "1                  0.417142  \n",
       "2                  0.125136  \n",
       "3                  0.371709  \n",
       "4                  1.087760  "
      ]
     },
     "execution_count": 15,
     "metadata": {},
     "output_type": "execute_result"
    }
   ],
   "source": [
    "data=data.drop(['latitude','longitude','suburbName','cityName','companyName', 'AP_dist_km','Aiims_dist_km' , 'NDRLW_dist_km'], axis=1)\n",
    "data.head()"
   ]
  },
  {
   "cell_type": "code",
   "execution_count": 16,
   "id": "55619098",
   "metadata": {
    "execution": {
     "iopub.execute_input": "2024-04-05T12:40:55.489810Z",
     "iopub.status.busy": "2024-04-05T12:40:55.489111Z",
     "iopub.status.idle": "2024-04-05T12:40:55.506530Z",
     "shell.execute_reply": "2024-04-05T12:40:55.505328Z"
    },
    "papermill": {
     "duration": 0.03998,
     "end_time": "2024-04-05T12:40:55.509549",
     "exception": false,
     "start_time": "2024-04-05T12:40:55.469569",
     "status": "completed"
    },
    "tags": []
   },
   "outputs": [
    {
     "data": {
      "text/html": [
       "<div>\n",
       "<style scoped>\n",
       "    .dataframe tbody tr th:only-of-type {\n",
       "        vertical-align: middle;\n",
       "    }\n",
       "\n",
       "    .dataframe tbody tr th {\n",
       "        vertical-align: top;\n",
       "    }\n",
       "\n",
       "    .dataframe thead th {\n",
       "        text-align: right;\n",
       "    }\n",
       "</style>\n",
       "<table border=\"1\" class=\"dataframe\">\n",
       "  <thead>\n",
       "    <tr style=\"text-align: right;\">\n",
       "      <th></th>\n",
       "      <th>size_sq_ft</th>\n",
       "      <th>propertyType</th>\n",
       "      <th>bedrooms</th>\n",
       "      <th>localityName</th>\n",
       "      <th>price</th>\n",
       "      <th>closest_mtero_station_km</th>\n",
       "      <th>price_per_sqft</th>\n",
       "    </tr>\n",
       "  </thead>\n",
       "  <tbody>\n",
       "    <tr>\n",
       "      <th>0</th>\n",
       "      <td>400</td>\n",
       "      <td>Independent Floor</td>\n",
       "      <td>1</td>\n",
       "      <td>Swasthya Vihar</td>\n",
       "      <td>9000</td>\n",
       "      <td>0.577495</td>\n",
       "      <td>22.50</td>\n",
       "    </tr>\n",
       "    <tr>\n",
       "      <th>1</th>\n",
       "      <td>1050</td>\n",
       "      <td>Apartment</td>\n",
       "      <td>2</td>\n",
       "      <td>mayur vihar phase 1</td>\n",
       "      <td>20000</td>\n",
       "      <td>0.417142</td>\n",
       "      <td>19.05</td>\n",
       "    </tr>\n",
       "    <tr>\n",
       "      <th>2</th>\n",
       "      <td>2250</td>\n",
       "      <td>Independent Floor</td>\n",
       "      <td>2</td>\n",
       "      <td>Swasthya Vihar</td>\n",
       "      <td>28000</td>\n",
       "      <td>0.125136</td>\n",
       "      <td>12.44</td>\n",
       "    </tr>\n",
       "    <tr>\n",
       "      <th>3</th>\n",
       "      <td>1350</td>\n",
       "      <td>Independent Floor</td>\n",
       "      <td>2</td>\n",
       "      <td>Krishna Nagar</td>\n",
       "      <td>28000</td>\n",
       "      <td>0.371709</td>\n",
       "      <td>20.74</td>\n",
       "    </tr>\n",
       "    <tr>\n",
       "      <th>4</th>\n",
       "      <td>450</td>\n",
       "      <td>Apartment</td>\n",
       "      <td>2</td>\n",
       "      <td>New Ashok Nagar</td>\n",
       "      <td>12500</td>\n",
       "      <td>1.087760</td>\n",
       "      <td>27.78</td>\n",
       "    </tr>\n",
       "  </tbody>\n",
       "</table>\n",
       "</div>"
      ],
      "text/plain": [
       "   size_sq_ft       propertyType  bedrooms         localityName  price  \\\n",
       "0         400  Independent Floor         1       Swasthya Vihar   9000   \n",
       "1        1050          Apartment         2  mayur vihar phase 1  20000   \n",
       "2        2250  Independent Floor         2       Swasthya Vihar  28000   \n",
       "3        1350  Independent Floor         2        Krishna Nagar  28000   \n",
       "4         450          Apartment         2      New Ashok Nagar  12500   \n",
       "\n",
       "   closest_mtero_station_km  price_per_sqft  \n",
       "0                  0.577495           22.50  \n",
       "1                  0.417142           19.05  \n",
       "2                  0.125136           12.44  \n",
       "3                  0.371709           20.74  \n",
       "4                  1.087760           27.78  "
      ]
     },
     "execution_count": 16,
     "metadata": {},
     "output_type": "execute_result"
    }
   ],
   "source": [
    "data['price_per_sqft']=data['price']/data['size_sq_ft']\n",
    "data['price_per_sqft']=data['price_per_sqft'].round(2)\n",
    "data.head()"
   ]
  },
  {
   "cell_type": "code",
   "execution_count": 17,
   "id": "31b96f62",
   "metadata": {
    "execution": {
     "iopub.execute_input": "2024-04-05T12:40:55.548862Z",
     "iopub.status.busy": "2024-04-05T12:40:55.547893Z",
     "iopub.status.idle": "2024-04-05T12:40:55.563171Z",
     "shell.execute_reply": "2024-04-05T12:40:55.561849Z"
    },
    "papermill": {
     "duration": 0.039,
     "end_time": "2024-04-05T12:40:55.566111",
     "exception": false,
     "start_time": "2024-04-05T12:40:55.527111",
     "status": "completed"
    },
    "tags": []
   },
   "outputs": [
    {
     "data": {
      "text/plain": [
       "localityName\n",
       "Patel Nagar              1448\n",
       "Paschim Vihar             949\n",
       "Chattarpur                826\n",
       "Pitampura                 609\n",
       "mayur vihar phase 1       523\n",
       "                         ... \n",
       "Sector-D Vasant Kunj        1\n",
       "Pocket 7 Sector D           1\n",
       "Shanti Kunj Main Road       1\n",
       "Pocket 9 Sector B           1\n",
       "Jhandewalan                 1\n",
       "Name: count, Length: 781, dtype: int64"
      ]
     },
     "execution_count": 17,
     "metadata": {},
     "output_type": "execute_result"
    }
   ],
   "source": [
    "locality_count = data['localityName'].value_counts()\n",
    "locality_count"
   ]
  },
  {
   "cell_type": "code",
   "execution_count": 18,
   "id": "543f38dc",
   "metadata": {
    "execution": {
     "iopub.execute_input": "2024-04-05T12:40:55.607532Z",
     "iopub.status.busy": "2024-04-05T12:40:55.606717Z",
     "iopub.status.idle": "2024-04-05T12:40:55.614980Z",
     "shell.execute_reply": "2024-04-05T12:40:55.613767Z"
    },
    "papermill": {
     "duration": 0.033471,
     "end_time": "2024-04-05T12:40:55.617442",
     "exception": false,
     "start_time": "2024-04-05T12:40:55.583971",
     "status": "completed"
    },
    "tags": []
   },
   "outputs": [
    {
     "data": {
      "text/plain": [
       "522"
      ]
     },
     "execution_count": 18,
     "metadata": {},
     "output_type": "execute_result"
    }
   ],
   "source": [
    "len(locality_count[locality_count<=5])"
   ]
  },
  {
   "cell_type": "code",
   "execution_count": 19,
   "id": "4cf29b0d",
   "metadata": {
    "execution": {
     "iopub.execute_input": "2024-04-05T12:40:55.655317Z",
     "iopub.status.busy": "2024-04-05T12:40:55.654446Z",
     "iopub.status.idle": "2024-04-05T12:40:55.664429Z",
     "shell.execute_reply": "2024-04-05T12:40:55.663230Z"
    },
    "papermill": {
     "duration": 0.031953,
     "end_time": "2024-04-05T12:40:55.666970",
     "exception": false,
     "start_time": "2024-04-05T12:40:55.635017",
     "status": "completed"
    },
    "tags": []
   },
   "outputs": [
    {
     "data": {
      "text/plain": [
       "localityName\n",
       "Shiksha Bharti School Road    5\n",
       "Pitampura near NSP            5\n",
       "Hastsal                       5\n",
       "Bahapur                       5\n",
       "Mahipalpur Extention          5\n",
       "                             ..\n",
       "Sector-D Vasant Kunj          1\n",
       "Pocket 7 Sector D             1\n",
       "Shanti Kunj Main Road         1\n",
       "Pocket 9 Sector B             1\n",
       "Jhandewalan                   1\n",
       "Name: count, Length: 522, dtype: int64"
      ]
     },
     "execution_count": 19,
     "metadata": {},
     "output_type": "execute_result"
    }
   ],
   "source": [
    "locality_count_less_than_5 = locality_count[locality_count<=5]\n",
    "locality_count_less_than_5"
   ]
  },
  {
   "cell_type": "code",
   "execution_count": 20,
   "id": "93c2876f",
   "metadata": {
    "execution": {
     "iopub.execute_input": "2024-04-05T12:40:55.722505Z",
     "iopub.status.busy": "2024-04-05T12:40:55.721638Z",
     "iopub.status.idle": "2024-04-05T12:40:55.813929Z",
     "shell.execute_reply": "2024-04-05T12:40:55.812726Z"
    },
    "papermill": {
     "duration": 0.126043,
     "end_time": "2024-04-05T12:40:55.817129",
     "exception": false,
     "start_time": "2024-04-05T12:40:55.691086",
     "status": "completed"
    },
    "tags": []
   },
   "outputs": [
    {
     "data": {
      "text/plain": [
       "localityName\n",
       "Patel Nagar                  1448\n",
       "other                         980\n",
       "Paschim Vihar                 949\n",
       "Chattarpur                    826\n",
       "Pitampura                     609\n",
       "                             ... \n",
       "A 2 Block                       6\n",
       "Sector 24 Rohini                6\n",
       "Mandawali                       6\n",
       "Pitampura KP Block              6\n",
       "Block AP Poorvi Pitampura       6\n",
       "Name: count, Length: 260, dtype: int64"
      ]
     },
     "execution_count": 20,
     "metadata": {},
     "output_type": "execute_result"
    }
   ],
   "source": [
    "data['localityName'] = data['localityName'].apply(lambda x: 'other' if x in locality_count_less_than_5 else x)\n",
    "data['localityName'].value_counts()"
   ]
  },
  {
   "cell_type": "code",
   "execution_count": 21,
   "id": "ff2c3c24",
   "metadata": {
    "execution": {
     "iopub.execute_input": "2024-04-05T12:40:55.875114Z",
     "iopub.status.busy": "2024-04-05T12:40:55.874746Z",
     "iopub.status.idle": "2024-04-05T12:40:55.910173Z",
     "shell.execute_reply": "2024-04-05T12:40:55.909106Z"
    },
    "papermill": {
     "duration": 0.065316,
     "end_time": "2024-04-05T12:40:55.912686",
     "exception": false,
     "start_time": "2024-04-05T12:40:55.847370",
     "status": "completed"
    },
    "tags": []
   },
   "outputs": [
    {
     "data": {
      "text/html": [
       "<div>\n",
       "<style scoped>\n",
       "    .dataframe tbody tr th:only-of-type {\n",
       "        vertical-align: middle;\n",
       "    }\n",
       "\n",
       "    .dataframe tbody tr th {\n",
       "        vertical-align: top;\n",
       "    }\n",
       "\n",
       "    .dataframe thead th {\n",
       "        text-align: right;\n",
       "    }\n",
       "</style>\n",
       "<table border=\"1\" class=\"dataframe\">\n",
       "  <thead>\n",
       "    <tr style=\"text-align: right;\">\n",
       "      <th></th>\n",
       "      <th>72 Sector 23 Road</th>\n",
       "      <th>944 B Block Road</th>\n",
       "      <th>A 2 Block</th>\n",
       "      <th>A1 Block Paschim Vihar Delhi</th>\n",
       "      <th>A4 Block Paschim Vihar</th>\n",
       "      <th>AGCR Enclave</th>\n",
       "      <th>Abul Fazal Enclave Jamia Nagar</th>\n",
       "      <th>Adchini</th>\n",
       "      <th>Alaknanda</th>\n",
       "      <th>Amar colony</th>\n",
       "      <th>...</th>\n",
       "      <th>dwarka sector 17</th>\n",
       "      <th>greater kailash Enclave 1</th>\n",
       "      <th>i p extension patparganj</th>\n",
       "      <th>laxmi nagar</th>\n",
       "      <th>laxmi nagar near metro station</th>\n",
       "      <th>mayur vihar phase 1</th>\n",
       "      <th>nawada</th>\n",
       "      <th>other</th>\n",
       "      <th>rohini sector 5</th>\n",
       "      <th>vikaspuri</th>\n",
       "    </tr>\n",
       "  </thead>\n",
       "  <tbody>\n",
       "    <tr>\n",
       "      <th>0</th>\n",
       "      <td>0</td>\n",
       "      <td>0</td>\n",
       "      <td>0</td>\n",
       "      <td>0</td>\n",
       "      <td>0</td>\n",
       "      <td>0</td>\n",
       "      <td>0</td>\n",
       "      <td>0</td>\n",
       "      <td>0</td>\n",
       "      <td>0</td>\n",
       "      <td>...</td>\n",
       "      <td>0</td>\n",
       "      <td>0</td>\n",
       "      <td>0</td>\n",
       "      <td>0</td>\n",
       "      <td>0</td>\n",
       "      <td>0</td>\n",
       "      <td>0</td>\n",
       "      <td>0</td>\n",
       "      <td>0</td>\n",
       "      <td>0</td>\n",
       "    </tr>\n",
       "    <tr>\n",
       "      <th>1</th>\n",
       "      <td>0</td>\n",
       "      <td>0</td>\n",
       "      <td>0</td>\n",
       "      <td>0</td>\n",
       "      <td>0</td>\n",
       "      <td>0</td>\n",
       "      <td>0</td>\n",
       "      <td>0</td>\n",
       "      <td>0</td>\n",
       "      <td>0</td>\n",
       "      <td>...</td>\n",
       "      <td>0</td>\n",
       "      <td>0</td>\n",
       "      <td>0</td>\n",
       "      <td>0</td>\n",
       "      <td>0</td>\n",
       "      <td>1</td>\n",
       "      <td>0</td>\n",
       "      <td>0</td>\n",
       "      <td>0</td>\n",
       "      <td>0</td>\n",
       "    </tr>\n",
       "    <tr>\n",
       "      <th>2</th>\n",
       "      <td>0</td>\n",
       "      <td>0</td>\n",
       "      <td>0</td>\n",
       "      <td>0</td>\n",
       "      <td>0</td>\n",
       "      <td>0</td>\n",
       "      <td>0</td>\n",
       "      <td>0</td>\n",
       "      <td>0</td>\n",
       "      <td>0</td>\n",
       "      <td>...</td>\n",
       "      <td>0</td>\n",
       "      <td>0</td>\n",
       "      <td>0</td>\n",
       "      <td>0</td>\n",
       "      <td>0</td>\n",
       "      <td>0</td>\n",
       "      <td>0</td>\n",
       "      <td>0</td>\n",
       "      <td>0</td>\n",
       "      <td>0</td>\n",
       "    </tr>\n",
       "    <tr>\n",
       "      <th>3</th>\n",
       "      <td>0</td>\n",
       "      <td>0</td>\n",
       "      <td>0</td>\n",
       "      <td>0</td>\n",
       "      <td>0</td>\n",
       "      <td>0</td>\n",
       "      <td>0</td>\n",
       "      <td>0</td>\n",
       "      <td>0</td>\n",
       "      <td>0</td>\n",
       "      <td>...</td>\n",
       "      <td>0</td>\n",
       "      <td>0</td>\n",
       "      <td>0</td>\n",
       "      <td>0</td>\n",
       "      <td>0</td>\n",
       "      <td>0</td>\n",
       "      <td>0</td>\n",
       "      <td>0</td>\n",
       "      <td>0</td>\n",
       "      <td>0</td>\n",
       "    </tr>\n",
       "    <tr>\n",
       "      <th>4</th>\n",
       "      <td>0</td>\n",
       "      <td>0</td>\n",
       "      <td>0</td>\n",
       "      <td>0</td>\n",
       "      <td>0</td>\n",
       "      <td>0</td>\n",
       "      <td>0</td>\n",
       "      <td>0</td>\n",
       "      <td>0</td>\n",
       "      <td>0</td>\n",
       "      <td>...</td>\n",
       "      <td>0</td>\n",
       "      <td>0</td>\n",
       "      <td>0</td>\n",
       "      <td>0</td>\n",
       "      <td>0</td>\n",
       "      <td>0</td>\n",
       "      <td>0</td>\n",
       "      <td>0</td>\n",
       "      <td>0</td>\n",
       "      <td>0</td>\n",
       "    </tr>\n",
       "  </tbody>\n",
       "</table>\n",
       "<p>5 rows × 260 columns</p>\n",
       "</div>"
      ],
      "text/plain": [
       "   72 Sector 23 Road  944 B Block Road  A 2 Block  \\\n",
       "0                  0                 0          0   \n",
       "1                  0                 0          0   \n",
       "2                  0                 0          0   \n",
       "3                  0                 0          0   \n",
       "4                  0                 0          0   \n",
       "\n",
       "   A1 Block Paschim Vihar Delhi  A4 Block Paschim Vihar  AGCR Enclave  \\\n",
       "0                             0                       0             0   \n",
       "1                             0                       0             0   \n",
       "2                             0                       0             0   \n",
       "3                             0                       0             0   \n",
       "4                             0                       0             0   \n",
       "\n",
       "   Abul Fazal Enclave Jamia Nagar  Adchini  Alaknanda  Amar colony  ...  \\\n",
       "0                               0        0          0            0  ...   \n",
       "1                               0        0          0            0  ...   \n",
       "2                               0        0          0            0  ...   \n",
       "3                               0        0          0            0  ...   \n",
       "4                               0        0          0            0  ...   \n",
       "\n",
       "   dwarka sector 17  greater kailash Enclave 1  i p extension patparganj  \\\n",
       "0                 0                          0                         0   \n",
       "1                 0                          0                         0   \n",
       "2                 0                          0                         0   \n",
       "3                 0                          0                         0   \n",
       "4                 0                          0                         0   \n",
       "\n",
       "   laxmi nagar  laxmi nagar near metro station  mayur vihar phase 1  nawada  \\\n",
       "0            0                               0                    0       0   \n",
       "1            0                               0                    1       0   \n",
       "2            0                               0                    0       0   \n",
       "3            0                               0                    0       0   \n",
       "4            0                               0                    0       0   \n",
       "\n",
       "   other  rohini sector 5  vikaspuri  \n",
       "0      0                0          0  \n",
       "1      0                0          0  \n",
       "2      0                0          0  \n",
       "3      0                0          0  \n",
       "4      0                0          0  \n",
       "\n",
       "[5 rows x 260 columns]"
      ]
     },
     "execution_count": 21,
     "metadata": {},
     "output_type": "execute_result"
    }
   ],
   "source": [
    "locality_dummy = pd.get_dummies(data.localityName, dtype=int)\n",
    "locality_dummy.head()"
   ]
  },
  {
   "cell_type": "code",
   "execution_count": 22,
   "id": "12fd3b9b",
   "metadata": {
    "execution": {
     "iopub.execute_input": "2024-04-05T12:40:55.968660Z",
     "iopub.status.busy": "2024-04-05T12:40:55.967870Z",
     "iopub.status.idle": "2024-04-05T12:40:55.981652Z",
     "shell.execute_reply": "2024-04-05T12:40:55.980710Z"
    },
    "papermill": {
     "duration": 0.045829,
     "end_time": "2024-04-05T12:40:55.984648",
     "exception": false,
     "start_time": "2024-04-05T12:40:55.938819",
     "status": "completed"
    },
    "tags": []
   },
   "outputs": [
    {
     "data": {
      "text/html": [
       "<div>\n",
       "<style scoped>\n",
       "    .dataframe tbody tr th:only-of-type {\n",
       "        vertical-align: middle;\n",
       "    }\n",
       "\n",
       "    .dataframe tbody tr th {\n",
       "        vertical-align: top;\n",
       "    }\n",
       "\n",
       "    .dataframe thead th {\n",
       "        text-align: right;\n",
       "    }\n",
       "</style>\n",
       "<table border=\"1\" class=\"dataframe\">\n",
       "  <thead>\n",
       "    <tr style=\"text-align: right;\">\n",
       "      <th></th>\n",
       "      <th>Apartment</th>\n",
       "      <th>Independent Floor</th>\n",
       "      <th>Independent House</th>\n",
       "      <th>Villa</th>\n",
       "    </tr>\n",
       "  </thead>\n",
       "  <tbody>\n",
       "    <tr>\n",
       "      <th>0</th>\n",
       "      <td>0</td>\n",
       "      <td>1</td>\n",
       "      <td>0</td>\n",
       "      <td>0</td>\n",
       "    </tr>\n",
       "    <tr>\n",
       "      <th>1</th>\n",
       "      <td>1</td>\n",
       "      <td>0</td>\n",
       "      <td>0</td>\n",
       "      <td>0</td>\n",
       "    </tr>\n",
       "    <tr>\n",
       "      <th>2</th>\n",
       "      <td>0</td>\n",
       "      <td>1</td>\n",
       "      <td>0</td>\n",
       "      <td>0</td>\n",
       "    </tr>\n",
       "    <tr>\n",
       "      <th>3</th>\n",
       "      <td>0</td>\n",
       "      <td>1</td>\n",
       "      <td>0</td>\n",
       "      <td>0</td>\n",
       "    </tr>\n",
       "    <tr>\n",
       "      <th>4</th>\n",
       "      <td>1</td>\n",
       "      <td>0</td>\n",
       "      <td>0</td>\n",
       "      <td>0</td>\n",
       "    </tr>\n",
       "  </tbody>\n",
       "</table>\n",
       "</div>"
      ],
      "text/plain": [
       "   Apartment  Independent Floor  Independent House  Villa\n",
       "0          0                  1                  0      0\n",
       "1          1                  0                  0      0\n",
       "2          0                  1                  0      0\n",
       "3          0                  1                  0      0\n",
       "4          1                  0                  0      0"
      ]
     },
     "execution_count": 22,
     "metadata": {},
     "output_type": "execute_result"
    }
   ],
   "source": [
    "property_dummy = pd.get_dummies(data.propertyType, dtype=int)\n",
    "property_dummy.head()"
   ]
  },
  {
   "cell_type": "code",
   "execution_count": 23,
   "id": "d36ecee1",
   "metadata": {
    "execution": {
     "iopub.execute_input": "2024-04-05T12:40:56.030965Z",
     "iopub.status.busy": "2024-04-05T12:40:56.030429Z",
     "iopub.status.idle": "2024-04-05T12:40:56.098538Z",
     "shell.execute_reply": "2024-04-05T12:40:56.097190Z"
    },
    "papermill": {
     "duration": 0.093964,
     "end_time": "2024-04-05T12:40:56.101629",
     "exception": false,
     "start_time": "2024-04-05T12:40:56.007665",
     "status": "completed"
    },
    "tags": []
   },
   "outputs": [
    {
     "data": {
      "text/html": [
       "<div>\n",
       "<style scoped>\n",
       "    .dataframe tbody tr th:only-of-type {\n",
       "        vertical-align: middle;\n",
       "    }\n",
       "\n",
       "    .dataframe tbody tr th {\n",
       "        vertical-align: top;\n",
       "    }\n",
       "\n",
       "    .dataframe thead th {\n",
       "        text-align: right;\n",
       "    }\n",
       "</style>\n",
       "<table border=\"1\" class=\"dataframe\">\n",
       "  <thead>\n",
       "    <tr style=\"text-align: right;\">\n",
       "      <th></th>\n",
       "      <th>size_sq_ft</th>\n",
       "      <th>propertyType</th>\n",
       "      <th>bedrooms</th>\n",
       "      <th>localityName</th>\n",
       "      <th>price</th>\n",
       "      <th>closest_mtero_station_km</th>\n",
       "      <th>price_per_sqft</th>\n",
       "      <th>Apartment</th>\n",
       "      <th>Independent Floor</th>\n",
       "      <th>Independent House</th>\n",
       "      <th>...</th>\n",
       "      <th>dwarka sector 17</th>\n",
       "      <th>greater kailash Enclave 1</th>\n",
       "      <th>i p extension patparganj</th>\n",
       "      <th>laxmi nagar</th>\n",
       "      <th>laxmi nagar near metro station</th>\n",
       "      <th>mayur vihar phase 1</th>\n",
       "      <th>nawada</th>\n",
       "      <th>other</th>\n",
       "      <th>rohini sector 5</th>\n",
       "      <th>vikaspuri</th>\n",
       "    </tr>\n",
       "  </thead>\n",
       "  <tbody>\n",
       "    <tr>\n",
       "      <th>0</th>\n",
       "      <td>400</td>\n",
       "      <td>Independent Floor</td>\n",
       "      <td>1</td>\n",
       "      <td>Swasthya Vihar</td>\n",
       "      <td>9000</td>\n",
       "      <td>0.577495</td>\n",
       "      <td>22.50</td>\n",
       "      <td>0</td>\n",
       "      <td>1</td>\n",
       "      <td>0</td>\n",
       "      <td>...</td>\n",
       "      <td>0</td>\n",
       "      <td>0</td>\n",
       "      <td>0</td>\n",
       "      <td>0</td>\n",
       "      <td>0</td>\n",
       "      <td>0</td>\n",
       "      <td>0</td>\n",
       "      <td>0</td>\n",
       "      <td>0</td>\n",
       "      <td>0</td>\n",
       "    </tr>\n",
       "    <tr>\n",
       "      <th>1</th>\n",
       "      <td>1050</td>\n",
       "      <td>Apartment</td>\n",
       "      <td>2</td>\n",
       "      <td>mayur vihar phase 1</td>\n",
       "      <td>20000</td>\n",
       "      <td>0.417142</td>\n",
       "      <td>19.05</td>\n",
       "      <td>1</td>\n",
       "      <td>0</td>\n",
       "      <td>0</td>\n",
       "      <td>...</td>\n",
       "      <td>0</td>\n",
       "      <td>0</td>\n",
       "      <td>0</td>\n",
       "      <td>0</td>\n",
       "      <td>0</td>\n",
       "      <td>1</td>\n",
       "      <td>0</td>\n",
       "      <td>0</td>\n",
       "      <td>0</td>\n",
       "      <td>0</td>\n",
       "    </tr>\n",
       "    <tr>\n",
       "      <th>2</th>\n",
       "      <td>2250</td>\n",
       "      <td>Independent Floor</td>\n",
       "      <td>2</td>\n",
       "      <td>Swasthya Vihar</td>\n",
       "      <td>28000</td>\n",
       "      <td>0.125136</td>\n",
       "      <td>12.44</td>\n",
       "      <td>0</td>\n",
       "      <td>1</td>\n",
       "      <td>0</td>\n",
       "      <td>...</td>\n",
       "      <td>0</td>\n",
       "      <td>0</td>\n",
       "      <td>0</td>\n",
       "      <td>0</td>\n",
       "      <td>0</td>\n",
       "      <td>0</td>\n",
       "      <td>0</td>\n",
       "      <td>0</td>\n",
       "      <td>0</td>\n",
       "      <td>0</td>\n",
       "    </tr>\n",
       "    <tr>\n",
       "      <th>3</th>\n",
       "      <td>1350</td>\n",
       "      <td>Independent Floor</td>\n",
       "      <td>2</td>\n",
       "      <td>Krishna Nagar</td>\n",
       "      <td>28000</td>\n",
       "      <td>0.371709</td>\n",
       "      <td>20.74</td>\n",
       "      <td>0</td>\n",
       "      <td>1</td>\n",
       "      <td>0</td>\n",
       "      <td>...</td>\n",
       "      <td>0</td>\n",
       "      <td>0</td>\n",
       "      <td>0</td>\n",
       "      <td>0</td>\n",
       "      <td>0</td>\n",
       "      <td>0</td>\n",
       "      <td>0</td>\n",
       "      <td>0</td>\n",
       "      <td>0</td>\n",
       "      <td>0</td>\n",
       "    </tr>\n",
       "    <tr>\n",
       "      <th>4</th>\n",
       "      <td>450</td>\n",
       "      <td>Apartment</td>\n",
       "      <td>2</td>\n",
       "      <td>New Ashok Nagar</td>\n",
       "      <td>12500</td>\n",
       "      <td>1.087760</td>\n",
       "      <td>27.78</td>\n",
       "      <td>1</td>\n",
       "      <td>0</td>\n",
       "      <td>0</td>\n",
       "      <td>...</td>\n",
       "      <td>0</td>\n",
       "      <td>0</td>\n",
       "      <td>0</td>\n",
       "      <td>0</td>\n",
       "      <td>0</td>\n",
       "      <td>0</td>\n",
       "      <td>0</td>\n",
       "      <td>0</td>\n",
       "      <td>0</td>\n",
       "      <td>0</td>\n",
       "    </tr>\n",
       "  </tbody>\n",
       "</table>\n",
       "<p>5 rows × 271 columns</p>\n",
       "</div>"
      ],
      "text/plain": [
       "   size_sq_ft       propertyType  bedrooms         localityName  price  \\\n",
       "0         400  Independent Floor         1       Swasthya Vihar   9000   \n",
       "1        1050          Apartment         2  mayur vihar phase 1  20000   \n",
       "2        2250  Independent Floor         2       Swasthya Vihar  28000   \n",
       "3        1350  Independent Floor         2        Krishna Nagar  28000   \n",
       "4         450          Apartment         2      New Ashok Nagar  12500   \n",
       "\n",
       "   closest_mtero_station_km  price_per_sqft  Apartment  Independent Floor  \\\n",
       "0                  0.577495           22.50          0                  1   \n",
       "1                  0.417142           19.05          1                  0   \n",
       "2                  0.125136           12.44          0                  1   \n",
       "3                  0.371709           20.74          0                  1   \n",
       "4                  1.087760           27.78          1                  0   \n",
       "\n",
       "   Independent House  ...  dwarka sector 17  greater kailash Enclave 1  \\\n",
       "0                  0  ...                 0                          0   \n",
       "1                  0  ...                 0                          0   \n",
       "2                  0  ...                 0                          0   \n",
       "3                  0  ...                 0                          0   \n",
       "4                  0  ...                 0                          0   \n",
       "\n",
       "   i p extension patparganj  laxmi nagar  laxmi nagar near metro station  \\\n",
       "0                         0            0                               0   \n",
       "1                         0            0                               0   \n",
       "2                         0            0                               0   \n",
       "3                         0            0                               0   \n",
       "4                         0            0                               0   \n",
       "\n",
       "   mayur vihar phase 1  nawada  other  rohini sector 5  vikaspuri  \n",
       "0                    0       0      0                0          0  \n",
       "1                    1       0      0                0          0  \n",
       "2                    0       0      0                0          0  \n",
       "3                    0       0      0                0          0  \n",
       "4                    0       0      0                0          0  \n",
       "\n",
       "[5 rows x 271 columns]"
      ]
     },
     "execution_count": 23,
     "metadata": {},
     "output_type": "execute_result"
    }
   ],
   "source": [
    "df2 = pd.concat([data,property_dummy,locality_dummy], axis='columns')\n",
    "df2.head()"
   ]
  },
  {
   "cell_type": "code",
   "execution_count": 24,
   "id": "0797d309",
   "metadata": {
    "execution": {
     "iopub.execute_input": "2024-04-05T12:40:56.163325Z",
     "iopub.status.busy": "2024-04-05T12:40:56.162543Z",
     "iopub.status.idle": "2024-04-05T12:40:56.202981Z",
     "shell.execute_reply": "2024-04-05T12:40:56.201909Z"
    },
    "papermill": {
     "duration": 0.075259,
     "end_time": "2024-04-05T12:40:56.206250",
     "exception": false,
     "start_time": "2024-04-05T12:40:56.130991",
     "status": "completed"
    },
    "tags": []
   },
   "outputs": [
    {
     "data": {
      "text/html": [
       "<div>\n",
       "<style scoped>\n",
       "    .dataframe tbody tr th:only-of-type {\n",
       "        vertical-align: middle;\n",
       "    }\n",
       "\n",
       "    .dataframe tbody tr th {\n",
       "        vertical-align: top;\n",
       "    }\n",
       "\n",
       "    .dataframe thead th {\n",
       "        text-align: right;\n",
       "    }\n",
       "</style>\n",
       "<table border=\"1\" class=\"dataframe\">\n",
       "  <thead>\n",
       "    <tr style=\"text-align: right;\">\n",
       "      <th></th>\n",
       "      <th>size_sq_ft</th>\n",
       "      <th>bedrooms</th>\n",
       "      <th>price</th>\n",
       "      <th>closest_mtero_station_km</th>\n",
       "      <th>price_per_sqft</th>\n",
       "      <th>Apartment</th>\n",
       "      <th>Independent Floor</th>\n",
       "      <th>Independent House</th>\n",
       "      <th>Villa</th>\n",
       "      <th>72 Sector 23 Road</th>\n",
       "      <th>...</th>\n",
       "      <th>dwarka sector 17</th>\n",
       "      <th>greater kailash Enclave 1</th>\n",
       "      <th>i p extension patparganj</th>\n",
       "      <th>laxmi nagar</th>\n",
       "      <th>laxmi nagar near metro station</th>\n",
       "      <th>mayur vihar phase 1</th>\n",
       "      <th>nawada</th>\n",
       "      <th>other</th>\n",
       "      <th>rohini sector 5</th>\n",
       "      <th>vikaspuri</th>\n",
       "    </tr>\n",
       "  </thead>\n",
       "  <tbody>\n",
       "    <tr>\n",
       "      <th>0</th>\n",
       "      <td>400</td>\n",
       "      <td>1</td>\n",
       "      <td>9000</td>\n",
       "      <td>0.577495</td>\n",
       "      <td>22.50</td>\n",
       "      <td>0</td>\n",
       "      <td>1</td>\n",
       "      <td>0</td>\n",
       "      <td>0</td>\n",
       "      <td>0</td>\n",
       "      <td>...</td>\n",
       "      <td>0</td>\n",
       "      <td>0</td>\n",
       "      <td>0</td>\n",
       "      <td>0</td>\n",
       "      <td>0</td>\n",
       "      <td>0</td>\n",
       "      <td>0</td>\n",
       "      <td>0</td>\n",
       "      <td>0</td>\n",
       "      <td>0</td>\n",
       "    </tr>\n",
       "    <tr>\n",
       "      <th>1</th>\n",
       "      <td>1050</td>\n",
       "      <td>2</td>\n",
       "      <td>20000</td>\n",
       "      <td>0.417142</td>\n",
       "      <td>19.05</td>\n",
       "      <td>1</td>\n",
       "      <td>0</td>\n",
       "      <td>0</td>\n",
       "      <td>0</td>\n",
       "      <td>0</td>\n",
       "      <td>...</td>\n",
       "      <td>0</td>\n",
       "      <td>0</td>\n",
       "      <td>0</td>\n",
       "      <td>0</td>\n",
       "      <td>0</td>\n",
       "      <td>1</td>\n",
       "      <td>0</td>\n",
       "      <td>0</td>\n",
       "      <td>0</td>\n",
       "      <td>0</td>\n",
       "    </tr>\n",
       "    <tr>\n",
       "      <th>2</th>\n",
       "      <td>2250</td>\n",
       "      <td>2</td>\n",
       "      <td>28000</td>\n",
       "      <td>0.125136</td>\n",
       "      <td>12.44</td>\n",
       "      <td>0</td>\n",
       "      <td>1</td>\n",
       "      <td>0</td>\n",
       "      <td>0</td>\n",
       "      <td>0</td>\n",
       "      <td>...</td>\n",
       "      <td>0</td>\n",
       "      <td>0</td>\n",
       "      <td>0</td>\n",
       "      <td>0</td>\n",
       "      <td>0</td>\n",
       "      <td>0</td>\n",
       "      <td>0</td>\n",
       "      <td>0</td>\n",
       "      <td>0</td>\n",
       "      <td>0</td>\n",
       "    </tr>\n",
       "    <tr>\n",
       "      <th>3</th>\n",
       "      <td>1350</td>\n",
       "      <td>2</td>\n",
       "      <td>28000</td>\n",
       "      <td>0.371709</td>\n",
       "      <td>20.74</td>\n",
       "      <td>0</td>\n",
       "      <td>1</td>\n",
       "      <td>0</td>\n",
       "      <td>0</td>\n",
       "      <td>0</td>\n",
       "      <td>...</td>\n",
       "      <td>0</td>\n",
       "      <td>0</td>\n",
       "      <td>0</td>\n",
       "      <td>0</td>\n",
       "      <td>0</td>\n",
       "      <td>0</td>\n",
       "      <td>0</td>\n",
       "      <td>0</td>\n",
       "      <td>0</td>\n",
       "      <td>0</td>\n",
       "    </tr>\n",
       "    <tr>\n",
       "      <th>4</th>\n",
       "      <td>450</td>\n",
       "      <td>2</td>\n",
       "      <td>12500</td>\n",
       "      <td>1.087760</td>\n",
       "      <td>27.78</td>\n",
       "      <td>1</td>\n",
       "      <td>0</td>\n",
       "      <td>0</td>\n",
       "      <td>0</td>\n",
       "      <td>0</td>\n",
       "      <td>...</td>\n",
       "      <td>0</td>\n",
       "      <td>0</td>\n",
       "      <td>0</td>\n",
       "      <td>0</td>\n",
       "      <td>0</td>\n",
       "      <td>0</td>\n",
       "      <td>0</td>\n",
       "      <td>0</td>\n",
       "      <td>0</td>\n",
       "      <td>0</td>\n",
       "    </tr>\n",
       "  </tbody>\n",
       "</table>\n",
       "<p>5 rows × 269 columns</p>\n",
       "</div>"
      ],
      "text/plain": [
       "   size_sq_ft  bedrooms  price  closest_mtero_station_km  price_per_sqft  \\\n",
       "0         400         1   9000                  0.577495           22.50   \n",
       "1        1050         2  20000                  0.417142           19.05   \n",
       "2        2250         2  28000                  0.125136           12.44   \n",
       "3        1350         2  28000                  0.371709           20.74   \n",
       "4         450         2  12500                  1.087760           27.78   \n",
       "\n",
       "   Apartment  Independent Floor  Independent House  Villa  72 Sector 23 Road  \\\n",
       "0          0                  1                  0      0                  0   \n",
       "1          1                  0                  0      0                  0   \n",
       "2          0                  1                  0      0                  0   \n",
       "3          0                  1                  0      0                  0   \n",
       "4          1                  0                  0      0                  0   \n",
       "\n",
       "   ...  dwarka sector 17  greater kailash Enclave 1  i p extension patparganj  \\\n",
       "0  ...                 0                          0                         0   \n",
       "1  ...                 0                          0                         0   \n",
       "2  ...                 0                          0                         0   \n",
       "3  ...                 0                          0                         0   \n",
       "4  ...                 0                          0                         0   \n",
       "\n",
       "   laxmi nagar  laxmi nagar near metro station  mayur vihar phase 1  nawada  \\\n",
       "0            0                               0                    0       0   \n",
       "1            0                               0                    1       0   \n",
       "2            0                               0                    0       0   \n",
       "3            0                               0                    0       0   \n",
       "4            0                               0                    0       0   \n",
       "\n",
       "   other  rohini sector 5  vikaspuri  \n",
       "0      0                0          0  \n",
       "1      0                0          0  \n",
       "2      0                0          0  \n",
       "3      0                0          0  \n",
       "4      0                0          0  \n",
       "\n",
       "[5 rows x 269 columns]"
      ]
     },
     "execution_count": 24,
     "metadata": {},
     "output_type": "execute_result"
    }
   ],
   "source": [
    "df3 = df2.drop(['localityName','propertyType'],  axis='columns')\n",
    "df3.head()"
   ]
  },
  {
   "cell_type": "code",
   "execution_count": 25,
   "id": "6b828396",
   "metadata": {
    "execution": {
     "iopub.execute_input": "2024-04-05T12:40:56.261229Z",
     "iopub.status.busy": "2024-04-05T12:40:56.259838Z",
     "iopub.status.idle": "2024-04-05T12:40:56.288543Z",
     "shell.execute_reply": "2024-04-05T12:40:56.287230Z"
    },
    "papermill": {
     "duration": 0.056277,
     "end_time": "2024-04-05T12:40:56.291940",
     "exception": false,
     "start_time": "2024-04-05T12:40:56.235663",
     "status": "completed"
    },
    "tags": []
   },
   "outputs": [],
   "source": [
    "x=df3.drop(['price'], axis=1)\n",
    "y=df3['price']"
   ]
  },
  {
   "cell_type": "code",
   "execution_count": 26,
   "id": "38c20486",
   "metadata": {
    "execution": {
     "iopub.execute_input": "2024-04-05T12:40:56.339031Z",
     "iopub.status.busy": "2024-04-05T12:40:56.338068Z",
     "iopub.status.idle": "2024-04-05T12:40:56.760509Z",
     "shell.execute_reply": "2024-04-05T12:40:56.759440Z"
    },
    "papermill": {
     "duration": 0.447858,
     "end_time": "2024-04-05T12:40:56.763606",
     "exception": false,
     "start_time": "2024-04-05T12:40:56.315748",
     "status": "completed"
    },
    "tags": []
   },
   "outputs": [],
   "source": [
    "from sklearn.model_selection import train_test_split\n",
    "X_train,X_test,y_train,y_test=train_test_split(x,y,random_state=10,train_size=0.2)"
   ]
  },
  {
   "cell_type": "code",
   "execution_count": 27,
   "id": "53c09e06",
   "metadata": {
    "execution": {
     "iopub.execute_input": "2024-04-05T12:40:56.867337Z",
     "iopub.status.busy": "2024-04-05T12:40:56.866284Z",
     "iopub.status.idle": "2024-04-05T12:40:56.870998Z",
     "shell.execute_reply": "2024-04-05T12:40:56.869889Z"
    },
    "papermill": {
     "duration": 0.090321,
     "end_time": "2024-04-05T12:40:56.873712",
     "exception": false,
     "start_time": "2024-04-05T12:40:56.783391",
     "status": "completed"
    },
    "tags": []
   },
   "outputs": [],
   "source": [
    "#from sklearn.preprocessing import StandardScaler\n",
    "#scaler = StandardScaler()\n",
    "#X_train_scaled = scaler.fit_transform(x_train, y_train)"
   ]
  },
  {
   "cell_type": "code",
   "execution_count": 28,
   "id": "56eb2c0f",
   "metadata": {
    "execution": {
     "iopub.execute_input": "2024-04-05T12:40:56.915796Z",
     "iopub.status.busy": "2024-04-05T12:40:56.915355Z",
     "iopub.status.idle": "2024-04-05T12:40:57.233886Z",
     "shell.execute_reply": "2024-04-05T12:40:57.232169Z"
    },
    "papermill": {
     "duration": 0.345063,
     "end_time": "2024-04-05T12:40:57.239269",
     "exception": false,
     "start_time": "2024-04-05T12:40:56.894206",
     "status": "completed"
    },
    "tags": []
   },
   "outputs": [
    {
     "data": {
      "text/plain": [
       "0.4557602750533247"
      ]
     },
     "execution_count": 28,
     "metadata": {},
     "output_type": "execute_result"
    }
   ],
   "source": [
    "from sklearn.linear_model import LinearRegression\n",
    "lin_reg = LinearRegression()\n",
    "lin_reg.fit(X_train,y_train)\n",
    "lin_reg.score(X_test,y_test)"
   ]
  },
  {
   "cell_type": "code",
   "execution_count": 29,
   "id": "fcd97136",
   "metadata": {
    "execution": {
     "iopub.execute_input": "2024-04-05T12:40:57.345660Z",
     "iopub.status.busy": "2024-04-05T12:40:57.345246Z",
     "iopub.status.idle": "2024-04-05T12:41:00.939686Z",
     "shell.execute_reply": "2024-04-05T12:41:00.938003Z"
    },
    "papermill": {
     "duration": 3.640642,
     "end_time": "2024-04-05T12:41:00.944046",
     "exception": false,
     "start_time": "2024-04-05T12:40:57.303404",
     "status": "completed"
    },
    "tags": []
   },
   "outputs": [
    {
     "data": {
      "text/plain": [
       "array([0.58499202, 0.54312944, 0.54084859, 0.54452869, 0.57048991,\n",
       "       0.66613998, 0.65204283, 0.52638397, 0.57988688, 0.65233054])"
      ]
     },
     "execution_count": 29,
     "metadata": {},
     "output_type": "execute_result"
    }
   ],
   "source": [
    "from sklearn.model_selection import ShuffleSplit\n",
    "from sklearn.model_selection import cross_val_score\n",
    "\n",
    "cv_lin = ShuffleSplit(n_splits=10, test_size=0.2, random_state=10)\n",
    "\n",
    "cross_val_score(LinearRegression(),x,y,cv=cv_lin) #ShuffleSplit"
   ]
  },
  {
   "cell_type": "code",
   "execution_count": 30,
   "id": "7e30969a",
   "metadata": {
    "execution": {
     "iopub.execute_input": "2024-04-05T12:41:01.067634Z",
     "iopub.status.busy": "2024-04-05T12:41:01.067176Z",
     "iopub.status.idle": "2024-04-05T12:41:01.098154Z",
     "shell.execute_reply": "2024-04-05T12:41:01.096948Z"
    },
    "papermill": {
     "duration": 0.065368,
     "end_time": "2024-04-05T12:41:01.102253",
     "exception": false,
     "start_time": "2024-04-05T12:41:01.036885",
     "status": "completed"
    },
    "tags": []
   },
   "outputs": [
    {
     "data": {
      "text/plain": [
       "70430.64714178586"
      ]
     },
     "execution_count": 30,
     "metadata": {},
     "output_type": "execute_result"
    }
   ],
   "source": [
    "lin_predict = lin_reg.predict(X_test)\n",
    "\n",
    "from sklearn.metrics import mean_squared_error\n",
    "lin_rmse = np.sqrt(mean_squared_error(lin_predict,y_test))\n",
    "lin_rmse"
   ]
  },
  {
   "cell_type": "code",
   "execution_count": 31,
   "id": "e4b8816d",
   "metadata": {
    "execution": {
     "iopub.execute_input": "2024-04-05T12:41:01.193572Z",
     "iopub.status.busy": "2024-04-05T12:41:01.192654Z",
     "iopub.status.idle": "2024-04-05T12:41:04.851190Z",
     "shell.execute_reply": "2024-04-05T12:41:04.849522Z"
    },
    "papermill": {
     "duration": 3.710809,
     "end_time": "2024-04-05T12:41:04.856520",
     "exception": false,
     "start_time": "2024-04-05T12:41:01.145711",
     "status": "completed"
    },
    "tags": []
   },
   "outputs": [
    {
     "data": {
      "text/plain": [
       "array([47278.3929348 , 52688.07533031, 45159.35626434, 93551.00869909,\n",
       "       54983.03969534, 42671.64069358, 58586.21514476, 87829.90710919,\n",
       "       39194.99873057, 57088.71744649])"
      ]
     },
     "execution_count": 31,
     "metadata": {},
     "output_type": "execute_result"
    }
   ],
   "source": [
    "np.sqrt(-cross_val_score(LinearRegression(),x,y,cv=cv_lin,scoring='neg_mean_squared_error'))"
   ]
  },
  {
   "cell_type": "code",
   "execution_count": 32,
   "id": "3b119245",
   "metadata": {
    "execution": {
     "iopub.execute_input": "2024-04-05T12:41:04.945602Z",
     "iopub.status.busy": "2024-04-05T12:41:04.944896Z",
     "iopub.status.idle": "2024-04-05T12:41:08.504319Z",
     "shell.execute_reply": "2024-04-05T12:41:08.502942Z"
    },
    "papermill": {
     "duration": 3.606643,
     "end_time": "2024-04-05T12:41:08.506990",
     "exception": false,
     "start_time": "2024-04-05T12:41:04.900347",
     "status": "completed"
    },
    "tags": []
   },
   "outputs": [
    {
     "data": {
      "text/plain": [
       "0.5337469039951787"
      ]
     },
     "execution_count": 32,
     "metadata": {},
     "output_type": "execute_result"
    }
   ],
   "source": [
    "from sklearn.ensemble import RandomForestRegressor\n",
    "forest_reg = RandomForestRegressor(random_state=10)\n",
    "forest_reg.fit(X_train,y_train)\n",
    "forest_reg.score(X_test,y_test)"
   ]
  },
  {
   "cell_type": "code",
   "execution_count": 33,
   "id": "4f2ff2ec",
   "metadata": {
    "execution": {
     "iopub.execute_input": "2024-04-05T12:41:08.550994Z",
     "iopub.status.busy": "2024-04-05T12:41:08.550559Z",
     "iopub.status.idle": "2024-04-05T12:43:48.422836Z",
     "shell.execute_reply": "2024-04-05T12:43:48.421407Z"
    },
    "papermill": {
     "duration": 159.915071,
     "end_time": "2024-04-05T12:43:48.443103",
     "exception": false,
     "start_time": "2024-04-05T12:41:08.528032",
     "status": "completed"
    },
    "tags": []
   },
   "outputs": [
    {
     "data": {
      "text/plain": [
       "array([0.88259249, 0.89289256, 0.94326681, 0.81521045, 0.98822496,\n",
       "       0.68981974, 0.81415833, 0.80874967, 0.96353584, 0.74701061])"
      ]
     },
     "execution_count": 33,
     "metadata": {},
     "output_type": "execute_result"
    }
   ],
   "source": [
    "cv_forest = ShuffleSplit(n_splits=10, test_size=0.2, random_state=10)\n",
    "\n",
    "cross_val_score(RandomForestRegressor(),x,y,cv=cv_forest)"
   ]
  },
  {
   "cell_type": "code",
   "execution_count": 34,
   "id": "4e7911bd",
   "metadata": {
    "execution": {
     "iopub.execute_input": "2024-04-05T12:43:48.487633Z",
     "iopub.status.busy": "2024-04-05T12:43:48.486405Z",
     "iopub.status.idle": "2024-04-05T12:46:28.997159Z",
     "shell.execute_reply": "2024-04-05T12:46:28.995837Z"
    },
    "papermill": {
     "duration": 160.55653,
     "end_time": "2024-04-05T12:46:29.020365",
     "exception": false,
     "start_time": "2024-04-05T12:43:48.463835",
     "status": "completed"
    },
    "tags": []
   },
   "outputs": [
    {
     "data": {
      "text/plain": [
       "0.8553447529452118"
      ]
     },
     "execution_count": 34,
     "metadata": {},
     "output_type": "execute_result"
    }
   ],
   "source": [
    "cross_val_score(RandomForestRegressor(),x,y,cv=cv_forest).mean()"
   ]
  },
  {
   "cell_type": "code",
   "execution_count": 35,
   "id": "08778d16",
   "metadata": {
    "execution": {
     "iopub.execute_input": "2024-04-05T12:46:29.064904Z",
     "iopub.status.busy": "2024-04-05T12:46:29.064426Z",
     "iopub.status.idle": "2024-04-05T12:49:09.281202Z",
     "shell.execute_reply": "2024-04-05T12:49:09.279897Z"
    },
    "papermill": {
     "duration": 160.263582,
     "end_time": "2024-04-05T12:49:09.305058",
     "exception": false,
     "start_time": "2024-04-05T12:46:29.041476",
     "status": "completed"
    },
    "tags": []
   },
   "outputs": [
    {
     "name": "stdout",
     "output_type": "stream",
     "text": [
      "Mean Score: 0.8469231269166435\n"
     ]
    }
   ],
   "source": [
    "cv_forest_mean = np.mean(cross_val_score(RandomForestRegressor(),x,y,cv=cv_forest))\n",
    "print('Mean Score:', cv_forest_mean)"
   ]
  },
  {
   "cell_type": "code",
   "execution_count": 36,
   "id": "4ebc4329",
   "metadata": {
    "execution": {
     "iopub.execute_input": "2024-04-05T12:49:09.352054Z",
     "iopub.status.busy": "2024-04-05T12:49:09.351280Z",
     "iopub.status.idle": "2024-04-05T12:49:09.606206Z",
     "shell.execute_reply": "2024-04-05T12:49:09.604671Z"
    },
    "papermill": {
     "duration": 0.282217,
     "end_time": "2024-04-05T12:49:09.608925",
     "exception": false,
     "start_time": "2024-04-05T12:49:09.326708",
     "status": "completed"
    },
    "tags": []
   },
   "outputs": [
    {
     "data": {
      "text/plain": [
       "65189.46606186079"
      ]
     },
     "execution_count": 36,
     "metadata": {},
     "output_type": "execute_result"
    }
   ],
   "source": [
    "forest_predict = forest_reg.predict(X_test)\n",
    "\n",
    "forest_rmse = np.sqrt(mean_squared_error(forest_predict,y_test))\n",
    "forest_rmse"
   ]
  },
  {
   "cell_type": "code",
   "execution_count": 37,
   "id": "a38eedab",
   "metadata": {
    "execution": {
     "iopub.execute_input": "2024-04-05T12:49:09.655354Z",
     "iopub.status.busy": "2024-04-05T12:49:09.654925Z",
     "iopub.status.idle": "2024-04-05T12:49:09.743078Z",
     "shell.execute_reply": "2024-04-05T12:49:09.741644Z"
    },
    "papermill": {
     "duration": 0.114068,
     "end_time": "2024-04-05T12:49:09.745645",
     "exception": false,
     "start_time": "2024-04-05T12:49:09.631577",
     "status": "completed"
    },
    "tags": []
   },
   "outputs": [
    {
     "data": {
      "text/plain": [
       "0.6039937193617786"
      ]
     },
     "execution_count": 37,
     "metadata": {},
     "output_type": "execute_result"
    }
   ],
   "source": [
    "from sklearn.tree import DecisionTreeRegressor\n",
    "tree_reg = DecisionTreeRegressor(random_state=10)\n",
    "tree_reg.fit(X_train,y_train)\n",
    "tree_reg.score(X_test,y_test)"
   ]
  },
  {
   "cell_type": "code",
   "execution_count": 38,
   "id": "f82c29fc",
   "metadata": {
    "execution": {
     "iopub.execute_input": "2024-04-05T12:49:09.792942Z",
     "iopub.status.busy": "2024-04-05T12:49:09.791814Z",
     "iopub.status.idle": "2024-04-05T12:49:12.687624Z",
     "shell.execute_reply": "2024-04-05T12:49:12.686163Z"
    },
    "papermill": {
     "duration": 2.921538,
     "end_time": "2024-04-05T12:49:12.690281",
     "exception": false,
     "start_time": "2024-04-05T12:49:09.768743",
     "status": "completed"
    },
    "tags": []
   },
   "outputs": [
    {
     "data": {
      "text/plain": [
       "array([0.98224864, 0.88459358, 0.64460959, 0.87452995, 0.84867548,\n",
       "       0.94306739, 0.87741435, 0.67044645, 0.92244609, 0.87433105])"
      ]
     },
     "execution_count": 38,
     "metadata": {},
     "output_type": "execute_result"
    }
   ],
   "source": [
    "cv_tree = ShuffleSplit(n_splits=10, test_size=0.2, random_state=10)\n",
    "\n",
    "cross_val_score(DecisionTreeRegressor(),x,y,cv=cv_tree)"
   ]
  },
  {
   "cell_type": "code",
   "execution_count": 39,
   "id": "4582b429",
   "metadata": {
    "execution": {
     "iopub.execute_input": "2024-04-05T12:49:12.736473Z",
     "iopub.status.busy": "2024-04-05T12:49:12.735819Z",
     "iopub.status.idle": "2024-04-05T12:49:12.766391Z",
     "shell.execute_reply": "2024-04-05T12:49:12.765214Z"
    },
    "papermill": {
     "duration": 0.056847,
     "end_time": "2024-04-05T12:49:12.769146",
     "exception": false,
     "start_time": "2024-04-05T12:49:12.712299",
     "status": "completed"
    },
    "tags": []
   },
   "outputs": [
    {
     "data": {
      "text/plain": [
       "60078.29465570259"
      ]
     },
     "execution_count": 39,
     "metadata": {},
     "output_type": "execute_result"
    }
   ],
   "source": [
    "tree_predict = tree_reg.predict(X_test)\n",
    "\n",
    "tree_rmse = np.sqrt(mean_squared_error(tree_predict,y_test))\n",
    "tree_rmse"
   ]
  }
 ],
 "metadata": {
  "kaggle": {
   "accelerator": "none",
   "dataSources": [
    {
     "datasetId": 826338,
     "sourceId": 1412384,
     "sourceType": "datasetVersion"
    }
   ],
   "dockerImageVersionId": 30673,
   "isGpuEnabled": false,
   "isInternetEnabled": false,
   "language": "python",
   "sourceType": "notebook"
  },
  "kernelspec": {
   "display_name": "Python 3",
   "language": "python",
   "name": "python3"
  },
  "language_info": {
   "codemirror_mode": {
    "name": "ipython",
    "version": 3
   },
   "file_extension": ".py",
   "mimetype": "text/x-python",
   "name": "python",
   "nbconvert_exporter": "python",
   "pygments_lexer": "ipython3",
   "version": "3.10.13"
  },
  "papermill": {
   "default_parameters": {},
   "duration": 506.621432,
   "end_time": "2024-04-05T12:49:13.515750",
   "environment_variables": {},
   "exception": null,
   "input_path": "__notebook__.ipynb",
   "output_path": "__notebook__.ipynb",
   "parameters": {},
   "start_time": "2024-04-05T12:40:46.894318",
   "version": "2.5.0"
  }
 },
 "nbformat": 4,
 "nbformat_minor": 5
}
